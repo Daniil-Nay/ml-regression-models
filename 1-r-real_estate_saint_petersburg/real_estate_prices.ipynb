{
 "cells": [
  {
   "metadata": {},
   "cell_type": "markdown",
   "source": "# Introduction | Real Estate Saint-Petersburg 2014-2019",
   "id": "a651bfea3b1cce32"
  },
  {
   "metadata": {},
   "cell_type": "markdown",
   "source": [
    "Current dataset has been acquired from Kaggle datasets.  \n",
    "It contains info about real estate listings, including various features of properties. Source:  \n",
    "https://www.kaggle.com/datasets/litvinenko630/real-estate-saint-petersburg-2014-2019/data\n"
   ],
   "id": "9dff91a309e5ff98"
  },
  {
   "metadata": {},
   "cell_type": "markdown",
   "source": [
    "### Goal  \n",
    "\n",
    "Completed version of this notebook will be having a prediction baseline model able to forecast prices of real estate. "
   ],
   "id": "b683b9e5b904d85e"
  },
  {
   "metadata": {},
   "cell_type": "markdown",
   "source": "## Importing libraries, funcs & data",
   "id": "6c41b224f1ac544d"
  },
  {
   "metadata": {
    "ExecuteTime": {
     "end_time": "2024-08-30T14:26:23.746126Z",
     "start_time": "2024-08-30T14:26:23.735594Z"
    }
   },
   "cell_type": "code",
   "source": [
    "import pandas as pd \n",
    "import numpy as np \n",
    "\n",
    "import matplotlib.pyplot as plt "
   ],
   "id": "6400b61be46acf53",
   "outputs": [],
   "execution_count": 1
  },
  {
   "metadata": {
    "ExecuteTime": {
     "end_time": "2024-08-30T14:26:23.958093Z",
     "start_time": "2024-08-30T14:26:23.749112Z"
    }
   },
   "cell_type": "code",
   "source": "df = pd.read_csv(r'data/real_estate_data.csv', sep='\\t')",
   "id": "6c2719c72f7baf5",
   "outputs": [],
   "execution_count": 2
  },
  {
   "metadata": {},
   "cell_type": "markdown",
   "source": "## Data exploration",
   "id": "8b9557c8642ee6fc"
  },
  {
   "metadata": {
    "ExecuteTime": {
     "end_time": "2024-08-30T14:26:24.025956Z",
     "start_time": "2024-08-30T14:26:23.962090Z"
    }
   },
   "cell_type": "code",
   "source": "df.head()",
   "id": "9cd51a8b63fe812",
   "outputs": [
    {
     "data": {
      "text/plain": [
       "   total_images  last_price  total_area first_day_exposition  rooms  \\\n",
       "0            20  13000000.0       108.0  2019-03-07T00:00:00      3   \n",
       "1             7   3350000.0        40.4  2018-12-04T00:00:00      1   \n",
       "2            10   5196000.0        56.0  2015-08-20T00:00:00      2   \n",
       "3             0  64900000.0       159.0  2015-07-24T00:00:00      3   \n",
       "4             2  10000000.0       100.0  2018-06-19T00:00:00      2   \n",
       "\n",
       "   ceiling_height  floors_total  living_area  floor is_apartment  ...  \\\n",
       "0            2.70          16.0         51.0      8          NaN  ...   \n",
       "1             NaN          11.0         18.6      1          NaN  ...   \n",
       "2             NaN           5.0         34.3      4          NaN  ...   \n",
       "3             NaN          14.0          NaN      9          NaN  ...   \n",
       "4            3.03          14.0         32.0     13          NaN  ...   \n",
       "\n",
       "   kitchen_area  balcony    locality_name  airports_nearest  \\\n",
       "0          25.0      NaN  Санкт-Петербург           18863.0   \n",
       "1          11.0      2.0   посёлок Шушары           12817.0   \n",
       "2           8.3      0.0  Санкт-Петербург           21741.0   \n",
       "3           NaN      0.0  Санкт-Петербург           28098.0   \n",
       "4          41.0      NaN  Санкт-Петербург           31856.0   \n",
       "\n",
       "  cityCenters_nearest  parks_around3000  parks_nearest  ponds_around3000  \\\n",
       "0             16028.0               1.0          482.0               2.0   \n",
       "1             18603.0               0.0            NaN               0.0   \n",
       "2             13933.0               1.0           90.0               2.0   \n",
       "3              6800.0               2.0           84.0               3.0   \n",
       "4              8098.0               2.0          112.0               1.0   \n",
       "\n",
       "   ponds_nearest  days_exposition  \n",
       "0          755.0              NaN  \n",
       "1            NaN             81.0  \n",
       "2          574.0            558.0  \n",
       "3          234.0            424.0  \n",
       "4           48.0            121.0  \n",
       "\n",
       "[5 rows x 22 columns]"
      ],
      "text/html": [
       "<div>\n",
       "<style scoped>\n",
       "    .dataframe tbody tr th:only-of-type {\n",
       "        vertical-align: middle;\n",
       "    }\n",
       "\n",
       "    .dataframe tbody tr th {\n",
       "        vertical-align: top;\n",
       "    }\n",
       "\n",
       "    .dataframe thead th {\n",
       "        text-align: right;\n",
       "    }\n",
       "</style>\n",
       "<table border=\"1\" class=\"dataframe\">\n",
       "  <thead>\n",
       "    <tr style=\"text-align: right;\">\n",
       "      <th></th>\n",
       "      <th>total_images</th>\n",
       "      <th>last_price</th>\n",
       "      <th>total_area</th>\n",
       "      <th>first_day_exposition</th>\n",
       "      <th>rooms</th>\n",
       "      <th>ceiling_height</th>\n",
       "      <th>floors_total</th>\n",
       "      <th>living_area</th>\n",
       "      <th>floor</th>\n",
       "      <th>is_apartment</th>\n",
       "      <th>...</th>\n",
       "      <th>kitchen_area</th>\n",
       "      <th>balcony</th>\n",
       "      <th>locality_name</th>\n",
       "      <th>airports_nearest</th>\n",
       "      <th>cityCenters_nearest</th>\n",
       "      <th>parks_around3000</th>\n",
       "      <th>parks_nearest</th>\n",
       "      <th>ponds_around3000</th>\n",
       "      <th>ponds_nearest</th>\n",
       "      <th>days_exposition</th>\n",
       "    </tr>\n",
       "  </thead>\n",
       "  <tbody>\n",
       "    <tr>\n",
       "      <th>0</th>\n",
       "      <td>20</td>\n",
       "      <td>13000000.0</td>\n",
       "      <td>108.0</td>\n",
       "      <td>2019-03-07T00:00:00</td>\n",
       "      <td>3</td>\n",
       "      <td>2.70</td>\n",
       "      <td>16.0</td>\n",
       "      <td>51.0</td>\n",
       "      <td>8</td>\n",
       "      <td>NaN</td>\n",
       "      <td>...</td>\n",
       "      <td>25.0</td>\n",
       "      <td>NaN</td>\n",
       "      <td>Санкт-Петербург</td>\n",
       "      <td>18863.0</td>\n",
       "      <td>16028.0</td>\n",
       "      <td>1.0</td>\n",
       "      <td>482.0</td>\n",
       "      <td>2.0</td>\n",
       "      <td>755.0</td>\n",
       "      <td>NaN</td>\n",
       "    </tr>\n",
       "    <tr>\n",
       "      <th>1</th>\n",
       "      <td>7</td>\n",
       "      <td>3350000.0</td>\n",
       "      <td>40.4</td>\n",
       "      <td>2018-12-04T00:00:00</td>\n",
       "      <td>1</td>\n",
       "      <td>NaN</td>\n",
       "      <td>11.0</td>\n",
       "      <td>18.6</td>\n",
       "      <td>1</td>\n",
       "      <td>NaN</td>\n",
       "      <td>...</td>\n",
       "      <td>11.0</td>\n",
       "      <td>2.0</td>\n",
       "      <td>посёлок Шушары</td>\n",
       "      <td>12817.0</td>\n",
       "      <td>18603.0</td>\n",
       "      <td>0.0</td>\n",
       "      <td>NaN</td>\n",
       "      <td>0.0</td>\n",
       "      <td>NaN</td>\n",
       "      <td>81.0</td>\n",
       "    </tr>\n",
       "    <tr>\n",
       "      <th>2</th>\n",
       "      <td>10</td>\n",
       "      <td>5196000.0</td>\n",
       "      <td>56.0</td>\n",
       "      <td>2015-08-20T00:00:00</td>\n",
       "      <td>2</td>\n",
       "      <td>NaN</td>\n",
       "      <td>5.0</td>\n",
       "      <td>34.3</td>\n",
       "      <td>4</td>\n",
       "      <td>NaN</td>\n",
       "      <td>...</td>\n",
       "      <td>8.3</td>\n",
       "      <td>0.0</td>\n",
       "      <td>Санкт-Петербург</td>\n",
       "      <td>21741.0</td>\n",
       "      <td>13933.0</td>\n",
       "      <td>1.0</td>\n",
       "      <td>90.0</td>\n",
       "      <td>2.0</td>\n",
       "      <td>574.0</td>\n",
       "      <td>558.0</td>\n",
       "    </tr>\n",
       "    <tr>\n",
       "      <th>3</th>\n",
       "      <td>0</td>\n",
       "      <td>64900000.0</td>\n",
       "      <td>159.0</td>\n",
       "      <td>2015-07-24T00:00:00</td>\n",
       "      <td>3</td>\n",
       "      <td>NaN</td>\n",
       "      <td>14.0</td>\n",
       "      <td>NaN</td>\n",
       "      <td>9</td>\n",
       "      <td>NaN</td>\n",
       "      <td>...</td>\n",
       "      <td>NaN</td>\n",
       "      <td>0.0</td>\n",
       "      <td>Санкт-Петербург</td>\n",
       "      <td>28098.0</td>\n",
       "      <td>6800.0</td>\n",
       "      <td>2.0</td>\n",
       "      <td>84.0</td>\n",
       "      <td>3.0</td>\n",
       "      <td>234.0</td>\n",
       "      <td>424.0</td>\n",
       "    </tr>\n",
       "    <tr>\n",
       "      <th>4</th>\n",
       "      <td>2</td>\n",
       "      <td>10000000.0</td>\n",
       "      <td>100.0</td>\n",
       "      <td>2018-06-19T00:00:00</td>\n",
       "      <td>2</td>\n",
       "      <td>3.03</td>\n",
       "      <td>14.0</td>\n",
       "      <td>32.0</td>\n",
       "      <td>13</td>\n",
       "      <td>NaN</td>\n",
       "      <td>...</td>\n",
       "      <td>41.0</td>\n",
       "      <td>NaN</td>\n",
       "      <td>Санкт-Петербург</td>\n",
       "      <td>31856.0</td>\n",
       "      <td>8098.0</td>\n",
       "      <td>2.0</td>\n",
       "      <td>112.0</td>\n",
       "      <td>1.0</td>\n",
       "      <td>48.0</td>\n",
       "      <td>121.0</td>\n",
       "    </tr>\n",
       "  </tbody>\n",
       "</table>\n",
       "<p>5 rows × 22 columns</p>\n",
       "</div>"
      ]
     },
     "execution_count": 3,
     "metadata": {},
     "output_type": "execute_result"
    }
   ],
   "execution_count": 3
  },
  {
   "metadata": {
    "ExecuteTime": {
     "end_time": "2024-08-30T14:26:24.059957Z",
     "start_time": "2024-08-30T14:26:24.032952Z"
    }
   },
   "cell_type": "code",
   "source": "df.info()",
   "id": "5c98df74c4f78ada",
   "outputs": [
    {
     "name": "stdout",
     "output_type": "stream",
     "text": [
      "<class 'pandas.core.frame.DataFrame'>\n",
      "RangeIndex: 23699 entries, 0 to 23698\n",
      "Data columns (total 22 columns):\n",
      " #   Column                Non-Null Count  Dtype  \n",
      "---  ------                --------------  -----  \n",
      " 0   total_images          23699 non-null  int64  \n",
      " 1   last_price            23699 non-null  float64\n",
      " 2   total_area            23699 non-null  float64\n",
      " 3   first_day_exposition  23699 non-null  object \n",
      " 4   rooms                 23699 non-null  int64  \n",
      " 5   ceiling_height        14504 non-null  float64\n",
      " 6   floors_total          23613 non-null  float64\n",
      " 7   living_area           21796 non-null  float64\n",
      " 8   floor                 23699 non-null  int64  \n",
      " 9   is_apartment          2775 non-null   object \n",
      " 10  studio                23699 non-null  bool   \n",
      " 11  open_plan             23699 non-null  bool   \n",
      " 12  kitchen_area          21421 non-null  float64\n",
      " 13  balcony               12180 non-null  float64\n",
      " 14  locality_name         23650 non-null  object \n",
      " 15  airports_nearest      18157 non-null  float64\n",
      " 16  cityCenters_nearest   18180 non-null  float64\n",
      " 17  parks_around3000      18181 non-null  float64\n",
      " 18  parks_nearest         8079 non-null   float64\n",
      " 19  ponds_around3000      18181 non-null  float64\n",
      " 20  ponds_nearest         9110 non-null   float64\n",
      " 21  days_exposition       20518 non-null  float64\n",
      "dtypes: bool(2), float64(14), int64(3), object(3)\n",
      "memory usage: 3.7+ MB\n"
     ]
    }
   ],
   "execution_count": 4
  },
  {
   "metadata": {
    "ExecuteTime": {
     "end_time": "2024-08-30T14:26:24.332732Z",
     "start_time": "2024-08-30T14:26:24.066952Z"
    }
   },
   "cell_type": "code",
   "source": "df.describe().round(decimals=2)",
   "id": "779eb8a677b88dcc",
   "outputs": [
    {
     "data": {
      "text/plain": [
       "       total_images    last_price  total_area     rooms  ceiling_height  \\\n",
       "count      23699.00  2.369900e+04    23699.00  23699.00        14504.00   \n",
       "mean           9.86  6.541549e+06       60.35      2.07            2.77   \n",
       "std            5.68  1.088701e+07       35.65      1.08            1.26   \n",
       "min            0.00  1.219000e+04       12.00      0.00            1.00   \n",
       "25%            6.00  3.400000e+06       40.00      1.00            2.52   \n",
       "50%            9.00  4.650000e+06       52.00      2.00            2.65   \n",
       "75%           14.00  6.800000e+06       69.90      3.00            2.80   \n",
       "max           50.00  7.630000e+08      900.00     19.00          100.00   \n",
       "\n",
       "       floors_total  living_area     floor  kitchen_area   balcony  \\\n",
       "count      23613.00     21796.00  23699.00      21421.00  12180.00   \n",
       "mean          10.67        34.46      5.89         10.57      1.15   \n",
       "std            6.60        22.03      4.89          5.91      1.07   \n",
       "min            1.00         2.00      1.00          1.30      0.00   \n",
       "25%            5.00        18.60      2.00          7.00      0.00   \n",
       "50%            9.00        30.00      4.00          9.10      1.00   \n",
       "75%           16.00        42.30      8.00         12.00      2.00   \n",
       "max           60.00       409.70     33.00        112.00      5.00   \n",
       "\n",
       "       airports_nearest  cityCenters_nearest  parks_around3000  parks_nearest  \\\n",
       "count          18157.00             18180.00          18181.00        8079.00   \n",
       "mean           28793.67             14191.28              0.61         490.80   \n",
       "std            12630.88              8608.39              0.80         342.32   \n",
       "min                0.00               181.00              0.00           1.00   \n",
       "25%            18585.00              9238.00              0.00         288.00   \n",
       "50%            26726.00             13098.50              0.00         455.00   \n",
       "75%            37273.00             16293.00              1.00         612.00   \n",
       "max            84869.00             65968.00              3.00        3190.00   \n",
       "\n",
       "       ponds_around3000  ponds_nearest  days_exposition  \n",
       "count          18181.00        9110.00         20518.00  \n",
       "mean               0.77         517.98           180.89  \n",
       "std                0.94         277.72           219.73  \n",
       "min                0.00          13.00             1.00  \n",
       "25%                0.00         294.00            45.00  \n",
       "50%                1.00         502.00            95.00  \n",
       "75%                1.00         729.00           232.00  \n",
       "max                3.00        1344.00          1580.00  "
      ],
      "text/html": [
       "<div>\n",
       "<style scoped>\n",
       "    .dataframe tbody tr th:only-of-type {\n",
       "        vertical-align: middle;\n",
       "    }\n",
       "\n",
       "    .dataframe tbody tr th {\n",
       "        vertical-align: top;\n",
       "    }\n",
       "\n",
       "    .dataframe thead th {\n",
       "        text-align: right;\n",
       "    }\n",
       "</style>\n",
       "<table border=\"1\" class=\"dataframe\">\n",
       "  <thead>\n",
       "    <tr style=\"text-align: right;\">\n",
       "      <th></th>\n",
       "      <th>total_images</th>\n",
       "      <th>last_price</th>\n",
       "      <th>total_area</th>\n",
       "      <th>rooms</th>\n",
       "      <th>ceiling_height</th>\n",
       "      <th>floors_total</th>\n",
       "      <th>living_area</th>\n",
       "      <th>floor</th>\n",
       "      <th>kitchen_area</th>\n",
       "      <th>balcony</th>\n",
       "      <th>airports_nearest</th>\n",
       "      <th>cityCenters_nearest</th>\n",
       "      <th>parks_around3000</th>\n",
       "      <th>parks_nearest</th>\n",
       "      <th>ponds_around3000</th>\n",
       "      <th>ponds_nearest</th>\n",
       "      <th>days_exposition</th>\n",
       "    </tr>\n",
       "  </thead>\n",
       "  <tbody>\n",
       "    <tr>\n",
       "      <th>count</th>\n",
       "      <td>23699.00</td>\n",
       "      <td>2.369900e+04</td>\n",
       "      <td>23699.00</td>\n",
       "      <td>23699.00</td>\n",
       "      <td>14504.00</td>\n",
       "      <td>23613.00</td>\n",
       "      <td>21796.00</td>\n",
       "      <td>23699.00</td>\n",
       "      <td>21421.00</td>\n",
       "      <td>12180.00</td>\n",
       "      <td>18157.00</td>\n",
       "      <td>18180.00</td>\n",
       "      <td>18181.00</td>\n",
       "      <td>8079.00</td>\n",
       "      <td>18181.00</td>\n",
       "      <td>9110.00</td>\n",
       "      <td>20518.00</td>\n",
       "    </tr>\n",
       "    <tr>\n",
       "      <th>mean</th>\n",
       "      <td>9.86</td>\n",
       "      <td>6.541549e+06</td>\n",
       "      <td>60.35</td>\n",
       "      <td>2.07</td>\n",
       "      <td>2.77</td>\n",
       "      <td>10.67</td>\n",
       "      <td>34.46</td>\n",
       "      <td>5.89</td>\n",
       "      <td>10.57</td>\n",
       "      <td>1.15</td>\n",
       "      <td>28793.67</td>\n",
       "      <td>14191.28</td>\n",
       "      <td>0.61</td>\n",
       "      <td>490.80</td>\n",
       "      <td>0.77</td>\n",
       "      <td>517.98</td>\n",
       "      <td>180.89</td>\n",
       "    </tr>\n",
       "    <tr>\n",
       "      <th>std</th>\n",
       "      <td>5.68</td>\n",
       "      <td>1.088701e+07</td>\n",
       "      <td>35.65</td>\n",
       "      <td>1.08</td>\n",
       "      <td>1.26</td>\n",
       "      <td>6.60</td>\n",
       "      <td>22.03</td>\n",
       "      <td>4.89</td>\n",
       "      <td>5.91</td>\n",
       "      <td>1.07</td>\n",
       "      <td>12630.88</td>\n",
       "      <td>8608.39</td>\n",
       "      <td>0.80</td>\n",
       "      <td>342.32</td>\n",
       "      <td>0.94</td>\n",
       "      <td>277.72</td>\n",
       "      <td>219.73</td>\n",
       "    </tr>\n",
       "    <tr>\n",
       "      <th>min</th>\n",
       "      <td>0.00</td>\n",
       "      <td>1.219000e+04</td>\n",
       "      <td>12.00</td>\n",
       "      <td>0.00</td>\n",
       "      <td>1.00</td>\n",
       "      <td>1.00</td>\n",
       "      <td>2.00</td>\n",
       "      <td>1.00</td>\n",
       "      <td>1.30</td>\n",
       "      <td>0.00</td>\n",
       "      <td>0.00</td>\n",
       "      <td>181.00</td>\n",
       "      <td>0.00</td>\n",
       "      <td>1.00</td>\n",
       "      <td>0.00</td>\n",
       "      <td>13.00</td>\n",
       "      <td>1.00</td>\n",
       "    </tr>\n",
       "    <tr>\n",
       "      <th>25%</th>\n",
       "      <td>6.00</td>\n",
       "      <td>3.400000e+06</td>\n",
       "      <td>40.00</td>\n",
       "      <td>1.00</td>\n",
       "      <td>2.52</td>\n",
       "      <td>5.00</td>\n",
       "      <td>18.60</td>\n",
       "      <td>2.00</td>\n",
       "      <td>7.00</td>\n",
       "      <td>0.00</td>\n",
       "      <td>18585.00</td>\n",
       "      <td>9238.00</td>\n",
       "      <td>0.00</td>\n",
       "      <td>288.00</td>\n",
       "      <td>0.00</td>\n",
       "      <td>294.00</td>\n",
       "      <td>45.00</td>\n",
       "    </tr>\n",
       "    <tr>\n",
       "      <th>50%</th>\n",
       "      <td>9.00</td>\n",
       "      <td>4.650000e+06</td>\n",
       "      <td>52.00</td>\n",
       "      <td>2.00</td>\n",
       "      <td>2.65</td>\n",
       "      <td>9.00</td>\n",
       "      <td>30.00</td>\n",
       "      <td>4.00</td>\n",
       "      <td>9.10</td>\n",
       "      <td>1.00</td>\n",
       "      <td>26726.00</td>\n",
       "      <td>13098.50</td>\n",
       "      <td>0.00</td>\n",
       "      <td>455.00</td>\n",
       "      <td>1.00</td>\n",
       "      <td>502.00</td>\n",
       "      <td>95.00</td>\n",
       "    </tr>\n",
       "    <tr>\n",
       "      <th>75%</th>\n",
       "      <td>14.00</td>\n",
       "      <td>6.800000e+06</td>\n",
       "      <td>69.90</td>\n",
       "      <td>3.00</td>\n",
       "      <td>2.80</td>\n",
       "      <td>16.00</td>\n",
       "      <td>42.30</td>\n",
       "      <td>8.00</td>\n",
       "      <td>12.00</td>\n",
       "      <td>2.00</td>\n",
       "      <td>37273.00</td>\n",
       "      <td>16293.00</td>\n",
       "      <td>1.00</td>\n",
       "      <td>612.00</td>\n",
       "      <td>1.00</td>\n",
       "      <td>729.00</td>\n",
       "      <td>232.00</td>\n",
       "    </tr>\n",
       "    <tr>\n",
       "      <th>max</th>\n",
       "      <td>50.00</td>\n",
       "      <td>7.630000e+08</td>\n",
       "      <td>900.00</td>\n",
       "      <td>19.00</td>\n",
       "      <td>100.00</td>\n",
       "      <td>60.00</td>\n",
       "      <td>409.70</td>\n",
       "      <td>33.00</td>\n",
       "      <td>112.00</td>\n",
       "      <td>5.00</td>\n",
       "      <td>84869.00</td>\n",
       "      <td>65968.00</td>\n",
       "      <td>3.00</td>\n",
       "      <td>3190.00</td>\n",
       "      <td>3.00</td>\n",
       "      <td>1344.00</td>\n",
       "      <td>1580.00</td>\n",
       "    </tr>\n",
       "  </tbody>\n",
       "</table>\n",
       "</div>"
      ]
     },
     "execution_count": 5,
     "metadata": {},
     "output_type": "execute_result"
    }
   ],
   "execution_count": 5
  },
  {
   "metadata": {
    "ExecuteTime": {
     "end_time": "2024-08-30T14:26:24.364726Z",
     "start_time": "2024-08-30T14:26:24.337728Z"
    }
   },
   "cell_type": "code",
   "source": [
    "\n",
    "\n",
    "df.isna().sum().sort_values(ascending=False)"
   ],
   "id": "4eebcc89bd8832f4",
   "outputs": [
    {
     "data": {
      "text/plain": [
       "is_apartment            20924\n",
       "parks_nearest           15620\n",
       "ponds_nearest           14589\n",
       "balcony                 11519\n",
       "ceiling_height           9195\n",
       "airports_nearest         5542\n",
       "cityCenters_nearest      5519\n",
       "ponds_around3000         5518\n",
       "parks_around3000         5518\n",
       "days_exposition          3181\n",
       "kitchen_area             2278\n",
       "living_area              1903\n",
       "floors_total               86\n",
       "locality_name              49\n",
       "total_images                0\n",
       "last_price                  0\n",
       "studio                      0\n",
       "floor                       0\n",
       "rooms                       0\n",
       "first_day_exposition        0\n",
       "total_area                  0\n",
       "open_plan                   0\n",
       "dtype: int64"
      ]
     },
     "execution_count": 6,
     "metadata": {},
     "output_type": "execute_result"
    }
   ],
   "execution_count": 6
  },
  {
   "metadata": {
    "ExecuteTime": {
     "end_time": "2024-08-30T14:26:24.479116Z",
     "start_time": "2024-08-30T14:26:24.369728Z"
    }
   },
   "cell_type": "code",
   "source": [
    "\n",
    "\n",
    "df.head()"
   ],
   "id": "ef66d3e3aaa2d993",
   "outputs": [
    {
     "data": {
      "text/plain": [
       "   total_images  last_price  total_area first_day_exposition  rooms  \\\n",
       "0            20  13000000.0       108.0  2019-03-07T00:00:00      3   \n",
       "1             7   3350000.0        40.4  2018-12-04T00:00:00      1   \n",
       "2            10   5196000.0        56.0  2015-08-20T00:00:00      2   \n",
       "3             0  64900000.0       159.0  2015-07-24T00:00:00      3   \n",
       "4             2  10000000.0       100.0  2018-06-19T00:00:00      2   \n",
       "\n",
       "   ceiling_height  floors_total  living_area  floor is_apartment  ...  \\\n",
       "0            2.70          16.0         51.0      8          NaN  ...   \n",
       "1             NaN          11.0         18.6      1          NaN  ...   \n",
       "2             NaN           5.0         34.3      4          NaN  ...   \n",
       "3             NaN          14.0          NaN      9          NaN  ...   \n",
       "4            3.03          14.0         32.0     13          NaN  ...   \n",
       "\n",
       "   kitchen_area  balcony    locality_name  airports_nearest  \\\n",
       "0          25.0      NaN  Санкт-Петербург           18863.0   \n",
       "1          11.0      2.0   посёлок Шушары           12817.0   \n",
       "2           8.3      0.0  Санкт-Петербург           21741.0   \n",
       "3           NaN      0.0  Санкт-Петербург           28098.0   \n",
       "4          41.0      NaN  Санкт-Петербург           31856.0   \n",
       "\n",
       "  cityCenters_nearest  parks_around3000  parks_nearest  ponds_around3000  \\\n",
       "0             16028.0               1.0          482.0               2.0   \n",
       "1             18603.0               0.0            NaN               0.0   \n",
       "2             13933.0               1.0           90.0               2.0   \n",
       "3              6800.0               2.0           84.0               3.0   \n",
       "4              8098.0               2.0          112.0               1.0   \n",
       "\n",
       "   ponds_nearest  days_exposition  \n",
       "0          755.0              NaN  \n",
       "1            NaN             81.0  \n",
       "2          574.0            558.0  \n",
       "3          234.0            424.0  \n",
       "4           48.0            121.0  \n",
       "\n",
       "[5 rows x 22 columns]"
      ],
      "text/html": [
       "<div>\n",
       "<style scoped>\n",
       "    .dataframe tbody tr th:only-of-type {\n",
       "        vertical-align: middle;\n",
       "    }\n",
       "\n",
       "    .dataframe tbody tr th {\n",
       "        vertical-align: top;\n",
       "    }\n",
       "\n",
       "    .dataframe thead th {\n",
       "        text-align: right;\n",
       "    }\n",
       "</style>\n",
       "<table border=\"1\" class=\"dataframe\">\n",
       "  <thead>\n",
       "    <tr style=\"text-align: right;\">\n",
       "      <th></th>\n",
       "      <th>total_images</th>\n",
       "      <th>last_price</th>\n",
       "      <th>total_area</th>\n",
       "      <th>first_day_exposition</th>\n",
       "      <th>rooms</th>\n",
       "      <th>ceiling_height</th>\n",
       "      <th>floors_total</th>\n",
       "      <th>living_area</th>\n",
       "      <th>floor</th>\n",
       "      <th>is_apartment</th>\n",
       "      <th>...</th>\n",
       "      <th>kitchen_area</th>\n",
       "      <th>balcony</th>\n",
       "      <th>locality_name</th>\n",
       "      <th>airports_nearest</th>\n",
       "      <th>cityCenters_nearest</th>\n",
       "      <th>parks_around3000</th>\n",
       "      <th>parks_nearest</th>\n",
       "      <th>ponds_around3000</th>\n",
       "      <th>ponds_nearest</th>\n",
       "      <th>days_exposition</th>\n",
       "    </tr>\n",
       "  </thead>\n",
       "  <tbody>\n",
       "    <tr>\n",
       "      <th>0</th>\n",
       "      <td>20</td>\n",
       "      <td>13000000.0</td>\n",
       "      <td>108.0</td>\n",
       "      <td>2019-03-07T00:00:00</td>\n",
       "      <td>3</td>\n",
       "      <td>2.70</td>\n",
       "      <td>16.0</td>\n",
       "      <td>51.0</td>\n",
       "      <td>8</td>\n",
       "      <td>NaN</td>\n",
       "      <td>...</td>\n",
       "      <td>25.0</td>\n",
       "      <td>NaN</td>\n",
       "      <td>Санкт-Петербург</td>\n",
       "      <td>18863.0</td>\n",
       "      <td>16028.0</td>\n",
       "      <td>1.0</td>\n",
       "      <td>482.0</td>\n",
       "      <td>2.0</td>\n",
       "      <td>755.0</td>\n",
       "      <td>NaN</td>\n",
       "    </tr>\n",
       "    <tr>\n",
       "      <th>1</th>\n",
       "      <td>7</td>\n",
       "      <td>3350000.0</td>\n",
       "      <td>40.4</td>\n",
       "      <td>2018-12-04T00:00:00</td>\n",
       "      <td>1</td>\n",
       "      <td>NaN</td>\n",
       "      <td>11.0</td>\n",
       "      <td>18.6</td>\n",
       "      <td>1</td>\n",
       "      <td>NaN</td>\n",
       "      <td>...</td>\n",
       "      <td>11.0</td>\n",
       "      <td>2.0</td>\n",
       "      <td>посёлок Шушары</td>\n",
       "      <td>12817.0</td>\n",
       "      <td>18603.0</td>\n",
       "      <td>0.0</td>\n",
       "      <td>NaN</td>\n",
       "      <td>0.0</td>\n",
       "      <td>NaN</td>\n",
       "      <td>81.0</td>\n",
       "    </tr>\n",
       "    <tr>\n",
       "      <th>2</th>\n",
       "      <td>10</td>\n",
       "      <td>5196000.0</td>\n",
       "      <td>56.0</td>\n",
       "      <td>2015-08-20T00:00:00</td>\n",
       "      <td>2</td>\n",
       "      <td>NaN</td>\n",
       "      <td>5.0</td>\n",
       "      <td>34.3</td>\n",
       "      <td>4</td>\n",
       "      <td>NaN</td>\n",
       "      <td>...</td>\n",
       "      <td>8.3</td>\n",
       "      <td>0.0</td>\n",
       "      <td>Санкт-Петербург</td>\n",
       "      <td>21741.0</td>\n",
       "      <td>13933.0</td>\n",
       "      <td>1.0</td>\n",
       "      <td>90.0</td>\n",
       "      <td>2.0</td>\n",
       "      <td>574.0</td>\n",
       "      <td>558.0</td>\n",
       "    </tr>\n",
       "    <tr>\n",
       "      <th>3</th>\n",
       "      <td>0</td>\n",
       "      <td>64900000.0</td>\n",
       "      <td>159.0</td>\n",
       "      <td>2015-07-24T00:00:00</td>\n",
       "      <td>3</td>\n",
       "      <td>NaN</td>\n",
       "      <td>14.0</td>\n",
       "      <td>NaN</td>\n",
       "      <td>9</td>\n",
       "      <td>NaN</td>\n",
       "      <td>...</td>\n",
       "      <td>NaN</td>\n",
       "      <td>0.0</td>\n",
       "      <td>Санкт-Петербург</td>\n",
       "      <td>28098.0</td>\n",
       "      <td>6800.0</td>\n",
       "      <td>2.0</td>\n",
       "      <td>84.0</td>\n",
       "      <td>3.0</td>\n",
       "      <td>234.0</td>\n",
       "      <td>424.0</td>\n",
       "    </tr>\n",
       "    <tr>\n",
       "      <th>4</th>\n",
       "      <td>2</td>\n",
       "      <td>10000000.0</td>\n",
       "      <td>100.0</td>\n",
       "      <td>2018-06-19T00:00:00</td>\n",
       "      <td>2</td>\n",
       "      <td>3.03</td>\n",
       "      <td>14.0</td>\n",
       "      <td>32.0</td>\n",
       "      <td>13</td>\n",
       "      <td>NaN</td>\n",
       "      <td>...</td>\n",
       "      <td>41.0</td>\n",
       "      <td>NaN</td>\n",
       "      <td>Санкт-Петербург</td>\n",
       "      <td>31856.0</td>\n",
       "      <td>8098.0</td>\n",
       "      <td>2.0</td>\n",
       "      <td>112.0</td>\n",
       "      <td>1.0</td>\n",
       "      <td>48.0</td>\n",
       "      <td>121.0</td>\n",
       "    </tr>\n",
       "  </tbody>\n",
       "</table>\n",
       "<p>5 rows × 22 columns</p>\n",
       "</div>"
      ]
     },
     "execution_count": 7,
     "metadata": {},
     "output_type": "execute_result"
    }
   ],
   "execution_count": 7
  },
  {
   "metadata": {
    "ExecuteTime": {
     "end_time": "2024-08-30T14:26:24.593424Z",
     "start_time": "2024-08-30T14:26:24.484116Z"
    }
   },
   "cell_type": "code",
   "source": [
    "\n",
    "df.duplicated().sum()"
   ],
   "id": "d558f591cc292d99",
   "outputs": [
    {
     "data": {
      "text/plain": [
       "0"
      ]
     },
     "execution_count": 8,
     "metadata": {},
     "output_type": "execute_result"
    }
   ],
   "execution_count": 8
  },
  {
   "metadata": {
    "ExecuteTime": {
     "end_time": "2024-08-30T14:26:24.694698Z",
     "start_time": "2024-08-30T14:26:24.603413Z"
    }
   },
   "cell_type": "code",
   "source": "df.nunique().sort_values()",
   "id": "f4bb8dda05ac95ed",
   "outputs": [
    {
     "data": {
      "text/plain": [
       "studio                     2\n",
       "open_plan                  2\n",
       "is_apartment               2\n",
       "ponds_around3000           4\n",
       "parks_around3000           4\n",
       "balcony                    6\n",
       "rooms                     17\n",
       "floor                     33\n",
       "floors_total              36\n",
       "total_images              38\n",
       "ceiling_height           183\n",
       "locality_name            364\n",
       "kitchen_area             971\n",
       "parks_nearest            995\n",
       "ponds_nearest           1096\n",
       "days_exposition         1141\n",
       "first_day_exposition    1491\n",
       "living_area             1782\n",
       "total_area              2182\n",
       "last_price              2978\n",
       "cityCenters_nearest     7642\n",
       "airports_nearest        8275\n",
       "dtype: int64"
      ]
     },
     "execution_count": 9,
     "metadata": {},
     "output_type": "execute_result"
    }
   ],
   "execution_count": 9
  },
  {
   "metadata": {
    "ExecuteTime": {
     "end_time": "2024-08-30T14:26:24.817701Z",
     "start_time": "2024-08-30T14:26:24.706699Z"
    }
   },
   "cell_type": "code",
   "source": [
    "\n",
    "\n",
    "\n",
    "df.dtypes"
   ],
   "id": "744566ce3e5a009d",
   "outputs": [
    {
     "data": {
      "text/plain": [
       "total_images              int64\n",
       "last_price              float64\n",
       "total_area              float64\n",
       "first_day_exposition     object\n",
       "rooms                     int64\n",
       "ceiling_height          float64\n",
       "floors_total            float64\n",
       "living_area             float64\n",
       "floor                     int64\n",
       "is_apartment             object\n",
       "studio                     bool\n",
       "open_plan                  bool\n",
       "kitchen_area            float64\n",
       "balcony                 float64\n",
       "locality_name            object\n",
       "airports_nearest        float64\n",
       "cityCenters_nearest     float64\n",
       "parks_around3000        float64\n",
       "parks_nearest           float64\n",
       "ponds_around3000        float64\n",
       "ponds_nearest           float64\n",
       "days_exposition         float64\n",
       "dtype: object"
      ]
     },
     "execution_count": 10,
     "metadata": {},
     "output_type": "execute_result"
    }
   ],
   "execution_count": 10
  },
  {
   "metadata": {
    "ExecuteTime": {
     "end_time": "2024-08-30T14:26:24.833168Z",
     "start_time": "2024-08-30T14:26:24.820702Z"
    }
   },
   "cell_type": "code",
   "source": "df.shape",
   "id": "26eaaf4d60c37016",
   "outputs": [
    {
     "data": {
      "text/plain": [
       "(23699, 22)"
      ]
     },
     "execution_count": 11,
     "metadata": {},
     "output_type": "execute_result"
    }
   ],
   "execution_count": 11
  },
  {
   "metadata": {},
   "cell_type": "markdown",
   "source": "## Data Preprocessing ",
   "id": "cbafcfd3e5f2b27"
  },
  {
   "metadata": {
    "ExecuteTime": {
     "end_time": "2024-08-30T14:26:24.850165Z",
     "start_time": "2024-08-30T14:26:24.836163Z"
    }
   },
   "cell_type": "code",
   "source": "df['last_price'].sort_values()\n",
   "id": "1e06aa02b692493c",
   "outputs": [
    {
     "data": {
      "text/plain": [
       "8793         12190.0\n",
       "17456       430000.0\n",
       "14911       430000.0\n",
       "16274       440000.0\n",
       "17676       450000.0\n",
       "            ...     \n",
       "15651    300000000.0\n",
       "1436     330000000.0\n",
       "14706    401300000.0\n",
       "19540    420000000.0\n",
       "12971    763000000.0\n",
       "Name: last_price, Length: 23699, dtype: float64"
      ]
     },
     "execution_count": 12,
     "metadata": {},
     "output_type": "execute_result"
    }
   ],
   "execution_count": 12
  },
  {
   "metadata": {},
   "cell_type": "markdown",
   "source": [
    "\n",
    "\n",
    "\n",
    "\n",
    "There's an anomaly low last price that has to be corrected"
   ],
   "id": "2e4145f4e7805ab9"
  },
  {
   "metadata": {
    "ExecuteTime": {
     "end_time": "2024-08-30T14:26:25.015490Z",
     "start_time": "2024-08-30T14:26:24.852164Z"
    }
   },
   "cell_type": "code",
   "source": "df.query('last_price==12190.0')",
   "id": "7a1d9bcfae993e9e",
   "outputs": [
    {
     "data": {
      "text/plain": [
       "      total_images  last_price  total_area first_day_exposition  rooms  \\\n",
       "8793             7     12190.0       109.0  2019-03-20T00:00:00      2   \n",
       "\n",
       "      ceiling_height  floors_total  living_area  floor is_apartment  ...  \\\n",
       "8793            2.75          25.0         32.0     25          NaN  ...   \n",
       "\n",
       "      kitchen_area  balcony    locality_name  airports_nearest  \\\n",
       "8793          40.5      NaN  Санкт-Петербург           36421.0   \n",
       "\n",
       "     cityCenters_nearest  parks_around3000  parks_nearest  ponds_around3000  \\\n",
       "8793              9176.0               1.0          805.0               0.0   \n",
       "\n",
       "      ponds_nearest  days_exposition  \n",
       "8793            NaN              8.0  \n",
       "\n",
       "[1 rows x 22 columns]"
      ],
      "text/html": [
       "<div>\n",
       "<style scoped>\n",
       "    .dataframe tbody tr th:only-of-type {\n",
       "        vertical-align: middle;\n",
       "    }\n",
       "\n",
       "    .dataframe tbody tr th {\n",
       "        vertical-align: top;\n",
       "    }\n",
       "\n",
       "    .dataframe thead th {\n",
       "        text-align: right;\n",
       "    }\n",
       "</style>\n",
       "<table border=\"1\" class=\"dataframe\">\n",
       "  <thead>\n",
       "    <tr style=\"text-align: right;\">\n",
       "      <th></th>\n",
       "      <th>total_images</th>\n",
       "      <th>last_price</th>\n",
       "      <th>total_area</th>\n",
       "      <th>first_day_exposition</th>\n",
       "      <th>rooms</th>\n",
       "      <th>ceiling_height</th>\n",
       "      <th>floors_total</th>\n",
       "      <th>living_area</th>\n",
       "      <th>floor</th>\n",
       "      <th>is_apartment</th>\n",
       "      <th>...</th>\n",
       "      <th>kitchen_area</th>\n",
       "      <th>balcony</th>\n",
       "      <th>locality_name</th>\n",
       "      <th>airports_nearest</th>\n",
       "      <th>cityCenters_nearest</th>\n",
       "      <th>parks_around3000</th>\n",
       "      <th>parks_nearest</th>\n",
       "      <th>ponds_around3000</th>\n",
       "      <th>ponds_nearest</th>\n",
       "      <th>days_exposition</th>\n",
       "    </tr>\n",
       "  </thead>\n",
       "  <tbody>\n",
       "    <tr>\n",
       "      <th>8793</th>\n",
       "      <td>7</td>\n",
       "      <td>12190.0</td>\n",
       "      <td>109.0</td>\n",
       "      <td>2019-03-20T00:00:00</td>\n",
       "      <td>2</td>\n",
       "      <td>2.75</td>\n",
       "      <td>25.0</td>\n",
       "      <td>32.0</td>\n",
       "      <td>25</td>\n",
       "      <td>NaN</td>\n",
       "      <td>...</td>\n",
       "      <td>40.5</td>\n",
       "      <td>NaN</td>\n",
       "      <td>Санкт-Петербург</td>\n",
       "      <td>36421.0</td>\n",
       "      <td>9176.0</td>\n",
       "      <td>1.0</td>\n",
       "      <td>805.0</td>\n",
       "      <td>0.0</td>\n",
       "      <td>NaN</td>\n",
       "      <td>8.0</td>\n",
       "    </tr>\n",
       "  </tbody>\n",
       "</table>\n",
       "<p>1 rows × 22 columns</p>\n",
       "</div>"
      ]
     },
     "execution_count": 13,
     "metadata": {},
     "output_type": "execute_result"
    }
   ],
   "execution_count": 13
  },
  {
   "metadata": {
    "ExecuteTime": {
     "end_time": "2024-08-30T14:26:25.034417Z",
     "start_time": "2024-08-30T14:26:25.019492Z"
    }
   },
   "cell_type": "code",
   "source": [
    "min_value = min(df['last_price'])\n",
    "df.loc[df['last_price']==min_value, 'last_price'] = int(min_value*100)"
   ],
   "id": "7b17379ef19f00fc",
   "outputs": [],
   "execution_count": 14
  },
  {
   "metadata": {
    "ExecuteTime": {
     "end_time": "2024-08-30T14:26:25.067219Z",
     "start_time": "2024-08-30T14:26:25.037414Z"
    }
   },
   "cell_type": "code",
   "source": [
    "\n",
    "\n",
    "\n",
    "df[df['ponds_nearest'].isna()][ 'ponds_around3000'].value_counts()"
   ],
   "id": "c5fc5be889087c1c",
   "outputs": [
    {
     "data": {
      "text/plain": [
       "ponds_around3000\n",
       "0.0    9071\n",
       "Name: count, dtype: int64"
      ]
     },
     "execution_count": 15,
     "metadata": {},
     "output_type": "execute_result"
    }
   ],
   "execution_count": 15
  },
  {
   "metadata": {
    "ExecuteTime": {
     "end_time": "2024-08-30T14:26:25.087209Z",
     "start_time": "2024-08-30T14:26:25.069220Z"
    }
   },
   "cell_type": "code",
   "source": [
    "\n",
    "df[df['parks_nearest'].isna()][ 'parks_around3000'].value_counts()"
   ],
   "id": "698e4d781fe518d7",
   "outputs": [
    {
     "data": {
      "text/plain": [
       "parks_around3000\n",
       "0.0    10102\n",
       "Name: count, dtype: int64"
      ]
     },
     "execution_count": 16,
     "metadata": {},
     "output_type": "execute_result"
    }
   ],
   "execution_count": 16
  },
  {
   "metadata": {
    "ExecuteTime": {
     "end_time": "2024-08-30T14:26:25.101209Z",
     "start_time": "2024-08-30T14:26:25.091210Z"
    }
   },
   "cell_type": "code",
   "source": [
    "features_to_compare = ['airports_nearest', 'cityCenters_nearest']\n",
    "\n",
    "df[features_to_compare] = df[features_to_compare].fillna(0)\n"
   ],
   "id": "c893070970fed613",
   "outputs": [],
   "execution_count": 17
  },
  {
   "metadata": {
    "ExecuteTime": {
     "end_time": "2024-08-30T14:26:28.338416Z",
     "start_time": "2024-08-30T14:26:25.103209Z"
    }
   },
   "cell_type": "code",
   "source": [
    "\n",
    "\n",
    "from sklearn.metrics import pairwise_distances\n",
    "def fulfill_by_closest(\n",
    "        df: pd.DataFrame,\n",
    "        features: list[str],\n",
    "        features_to_compare: list[str]\n",
    "):\n",
    "    for feature in features:\n",
    "        known_values = df[df[feature].notna()]\n",
    "        unknown_values = df[df[feature].isna()]\n",
    "        distances = pairwise_distances(unknown_values[features_to_compare], known_values[features_to_compare], metric='euclidean')\n",
    "        nearest_indices = distances.argmin(axis=1)\n",
    "        df.loc[df[feature].isna(), feature] = known_values.iloc[nearest_indices][feature].values"
   ],
   "id": "a321e46e963e46d3",
   "outputs": [],
   "execution_count": 18
  },
  {
   "metadata": {
    "ExecuteTime": {
     "end_time": "2024-08-30T14:26:44.637850Z",
     "start_time": "2024-08-30T14:26:28.342941Z"
    }
   },
   "cell_type": "code",
   "source": [
    "features_to_fill = ['parks_nearest','ponds_nearest','ponds_around3000','parks_around3000']\n",
    "fulfill_by_closest(\n",
    "    df = df,\n",
    "    features = features_to_fill,\n",
    "    features_to_compare = features_to_compare\n",
    ")"
   ],
   "id": "ba3f842f460e7b1",
   "outputs": [],
   "execution_count": 19
  },
  {
   "metadata": {
    "ExecuteTime": {
     "end_time": "2024-08-30T14:26:44.660163Z",
     "start_time": "2024-08-30T14:26:44.642848Z"
    }
   },
   "cell_type": "code",
   "source": [
    "\n",
    "df.dropna(subset=['locality_name'], inplace=True)"
   ],
   "id": "b8d19cfc11d3fd0a",
   "outputs": [],
   "execution_count": 20
  },
  {
   "metadata": {
    "ExecuteTime": {
     "end_time": "2024-08-30T14:26:44.795915Z",
     "start_time": "2024-08-30T14:26:44.662153Z"
    }
   },
   "cell_type": "code",
   "source": [
    "\n",
    "\n",
    "df.loc[df['floors_total'].isna(), 'floors_total'] = df.loc[df['floors_total'].isna(), 'floor']"
   ],
   "id": "3f0116fea110054e",
   "outputs": [],
   "execution_count": 21
  },
  {
   "metadata": {
    "ExecuteTime": {
     "end_time": "2024-08-30T14:26:44.811842Z",
     "start_time": "2024-08-30T14:26:44.797906Z"
    }
   },
   "cell_type": "code",
   "source": [
    "\n",
    "df = df[df['floors_total']<=37]"
   ],
   "id": "147daa46b8fafe5e",
   "outputs": [],
   "execution_count": 22
  },
  {
   "metadata": {
    "ExecuteTime": {
     "end_time": "2024-08-30T14:26:44.830844Z",
     "start_time": "2024-08-30T14:26:44.814371Z"
    }
   },
   "cell_type": "code",
   "source": "df.loc[df['balcony'].isna()==True,'balcony']=0",
   "id": "fae9116d8d677c7d",
   "outputs": [],
   "execution_count": 23
  },
  {
   "metadata": {
    "ExecuteTime": {
     "end_time": "2024-08-30T14:26:44.887978Z",
     "start_time": "2024-08-30T14:26:44.836888Z"
    }
   },
   "cell_type": "code",
   "source": "grouped = df[df['ceiling_height'].notna()].groupby(['locality_name'])",
   "id": "ef84b12807f0d496",
   "outputs": [],
   "execution_count": 24
  },
  {
   "metadata": {
    "ExecuteTime": {
     "end_time": "2024-08-30T14:26:45.182151Z",
     "start_time": "2024-08-30T14:26:44.895503Z"
    }
   },
   "cell_type": "code",
   "source": "df['ceiling_height'] = df.groupby('locality_name')['ceiling_height'].transform(lambda x: x.fillna(x.mean()))\n",
   "id": "c4494412e6a1d74e",
   "outputs": [],
   "execution_count": 25
  },
  {
   "metadata": {
    "ExecuteTime": {
     "end_time": "2024-08-30T14:26:45.212561Z",
     "start_time": "2024-08-30T14:26:45.188562Z"
    }
   },
   "cell_type": "code",
   "source": [
    "\n",
    "df.dropna(subset=['ceiling_height'], inplace=True)"
   ],
   "id": "9e1042a3a6df03d3",
   "outputs": [],
   "execution_count": 26
  },
  {
   "metadata": {
    "ExecuteTime": {
     "end_time": "2024-08-30T14:26:45.261778Z",
     "start_time": "2024-08-30T14:26:45.227091Z"
    }
   },
   "cell_type": "code",
   "source": "df.shape",
   "id": "935608fd8fbf8125",
   "outputs": [
    {
     "data": {
      "text/plain": [
       "(23527, 22)"
      ]
     },
     "execution_count": 27,
     "metadata": {},
     "output_type": "execute_result"
    }
   ],
   "execution_count": 27
  },
  {
   "metadata": {
    "ExecuteTime": {
     "end_time": "2024-08-30T14:26:45.341168Z",
     "start_time": "2024-08-30T14:26:45.268736Z"
    }
   },
   "cell_type": "code",
   "source": "df.isna().sum().sort_values(ascending=False)",
   "id": "6ba340ebb4494dad",
   "outputs": [
    {
     "data": {
      "text/plain": [
       "is_apartment            20779\n",
       "days_exposition          3154\n",
       "kitchen_area             2240\n",
       "living_area              1874\n",
       "ponds_nearest               0\n",
       "ponds_around3000            0\n",
       "parks_nearest               0\n",
       "parks_around3000            0\n",
       "cityCenters_nearest         0\n",
       "airports_nearest            0\n",
       "locality_name               0\n",
       "balcony                     0\n",
       "total_images                0\n",
       "last_price                  0\n",
       "studio                      0\n",
       "floor                       0\n",
       "floors_total                0\n",
       "ceiling_height              0\n",
       "rooms                       0\n",
       "first_day_exposition        0\n",
       "total_area                  0\n",
       "open_plan                   0\n",
       "dtype: int64"
      ]
     },
     "execution_count": 28,
     "metadata": {},
     "output_type": "execute_result"
    }
   ],
   "execution_count": 28
  },
  {
   "metadata": {
    "ExecuteTime": {
     "end_time": "2024-08-30T14:26:45.362211Z",
     "start_time": "2024-08-30T14:26:45.347138Z"
    }
   },
   "cell_type": "code",
   "source": [
    "df.loc[df['kitchen_area'].isna(),'kitchen_area'] = np.floor(df['kitchen_area'].mean())\n",
    "df.loc[df['living_area'].isna(),'living_area']= np.floor(df['living_area'].mean())\n"
   ],
   "id": "59b84512c5b3ccb3",
   "outputs": [],
   "execution_count": 29
  },
  {
   "metadata": {
    "ExecuteTime": {
     "end_time": "2024-08-30T14:26:45.543763Z",
     "start_time": "2024-08-30T14:26:45.397762Z"
    }
   },
   "cell_type": "code",
   "source": "df = df[df['total_area']>20]",
   "id": "9f28e95398ddc7a7",
   "outputs": [],
   "execution_count": 30
  },
  {
   "metadata": {
    "ExecuteTime": {
     "end_time": "2024-08-30T14:26:45.577876Z",
     "start_time": "2024-08-30T14:26:45.552646Z"
    }
   },
   "cell_type": "code",
   "source": "df.shape",
   "id": "e76f3243d9a6ae3b",
   "outputs": [
    {
     "data": {
      "text/plain": [
       "(23492, 22)"
      ]
     },
     "execution_count": 31,
     "metadata": {},
     "output_type": "execute_result"
    }
   ],
   "execution_count": 31
  },
  {
   "metadata": {
    "ExecuteTime": {
     "end_time": "2024-08-30T14:26:45.706852Z",
     "start_time": "2024-08-30T14:26:45.584875Z"
    }
   },
   "cell_type": "code",
   "source": "df.loc[:,'non_living_area'] = df['total_area']-(df['living_area']+df['kitchen_area'])",
   "id": "873497063cb52967",
   "outputs": [],
   "execution_count": 32
  },
  {
   "metadata": {
    "ExecuteTime": {
     "end_time": "2024-08-30T14:26:45.761486Z",
     "start_time": "2024-08-30T14:26:45.714062Z"
    }
   },
   "cell_type": "code",
   "source": "df = df[df['non_living_area']>0]",
   "id": "adcdffbd75432e0",
   "outputs": [],
   "execution_count": 33
  },
  {
   "metadata": {
    "ExecuteTime": {
     "end_time": "2024-08-30T14:26:45.810372Z",
     "start_time": "2024-08-30T14:26:45.765492Z"
    }
   },
   "cell_type": "code",
   "source": "df.fillna(value=0, inplace=True)",
   "id": "a98f8f2237ee4b26",
   "outputs": [],
   "execution_count": 34
  },
  {
   "metadata": {
    "ExecuteTime": {
     "end_time": "2024-08-30T14:26:46.050735Z",
     "start_time": "2024-08-30T14:26:45.816375Z"
    }
   },
   "cell_type": "code",
   "source": [
    "df['first_day_exposition'] = pd.to_datetime(df['first_day_exposition'])\n",
    "df['exposition_year'] = df['first_day_exposition'].dt.year\n",
    "df['exposition_month'] = df['first_day_exposition'].dt.month\n",
    "df['exposition_day'] = df['first_day_exposition'].dt.day\n",
    "df['exposition_weekday'] = df['first_day_exposition'].dt.weekday\n",
    "df['studio'] = df['studio'].astype(int)\n",
    "df['open_plan'] = df['open_plan'].astype(int)"
   ],
   "id": "678d88bf3f391a6a",
   "outputs": [],
   "execution_count": 35
  },
  {
   "metadata": {
    "ExecuteTime": {
     "end_time": "2024-08-30T14:26:46.065124Z",
     "start_time": "2024-08-30T14:26:46.052742Z"
    }
   },
   "cell_type": "code",
   "source": [
    "\n",
    "df['log_last_price'] = np.log1p(df['last_price'])"
   ],
   "id": "941eacc46dd50cb0",
   "outputs": [],
   "execution_count": 36
  },
  {
   "metadata": {},
   "cell_type": "markdown",
   "source": "",
   "id": "faf210fa27d64361"
  },
  {
   "metadata": {},
   "cell_type": "markdown",
   "source": "## Exploratory Data Analysis (EDA)",
   "id": "5d8cfed18416a71a"
  },
  {
   "metadata": {
    "ExecuteTime": {
     "end_time": "2024-08-30T14:26:46.092250Z",
     "start_time": "2024-08-30T14:26:46.070122Z"
    }
   },
   "cell_type": "code",
   "source": [
    "import seaborn as sns\n",
    "def create_matrix_correlation(data):\n",
    "    corr = data.corr()\n",
    "    fig = plt.figure(figsize=(10,10))\n",
    "    sns.heatmap(\n",
    "        corr, annot=True, fmt='.2f',cmap='coolwarm',cbar=True\n",
    "    )\n",
    "    fig.tight_layout()\n",
    "    plt.show()"
   ],
   "id": "934e5361832821b0",
   "outputs": [],
   "execution_count": 37
  },
  {
   "metadata": {
    "ExecuteTime": {
     "end_time": "2024-08-30T14:26:46.115859Z",
     "start_time": "2024-08-30T14:26:46.095246Z"
    }
   },
   "cell_type": "code",
   "source": [
    "def draw_distribution_graphic(x: pd.Series)->None:\n",
    "    fig, ax = plt.subplots(figsize = (12, 6))\n",
    "    sns.histplot(x, kde = True)\n",
    "    ax.set_title(\"Target distribution\", fontsize = 15, pad = 10, loc = 'left')\n",
    "    ax.set_xlabel(\"Price - log transformed\", fontsize = 8)\n",
    "    ax.set_ylabel(\"Frequency\", fontsize = 8)\n",
    "    plt.show()"
   ],
   "id": "fc79e70ac8a16a36",
   "outputs": [],
   "execution_count": 38
  },
  {
   "metadata": {
    "ExecuteTime": {
     "end_time": "2024-08-30T14:26:46.210913Z",
     "start_time": "2024-08-30T14:26:46.122863Z"
    }
   },
   "cell_type": "code",
   "source": "df.head()",
   "id": "f853ab23886c4d4d",
   "outputs": [
    {
     "data": {
      "text/plain": [
       "   total_images  last_price  total_area first_day_exposition  rooms  \\\n",
       "0            20  13000000.0       108.0           2019-03-07      3   \n",
       "1             7   3350000.0        40.4           2018-12-04      1   \n",
       "2            10   5196000.0        56.0           2015-08-20      2   \n",
       "3             0  64900000.0       159.0           2015-07-24      3   \n",
       "4             2  10000000.0       100.0           2018-06-19      2   \n",
       "\n",
       "   ceiling_height  floors_total  living_area  floor is_apartment  ...  \\\n",
       "0        2.700000          16.0         51.0      8            0  ...   \n",
       "1        2.644470          11.0         18.6      1            0  ...   \n",
       "2        2.803725           5.0         34.3      4            0  ...   \n",
       "3        2.803725          14.0         34.0      9            0  ...   \n",
       "4        3.030000          14.0         32.0     13            0  ...   \n",
       "\n",
       "   parks_nearest  ponds_around3000  ponds_nearest  days_exposition  \\\n",
       "0          482.0               2.0          755.0              0.0   \n",
       "1          679.0               0.0          640.0             81.0   \n",
       "2           90.0               2.0          574.0            558.0   \n",
       "3           84.0               3.0          234.0            424.0   \n",
       "4          112.0               1.0           48.0            121.0   \n",
       "\n",
       "  non_living_area  exposition_year  exposition_month  exposition_day  \\\n",
       "0            32.0             2019                 3               7   \n",
       "1            10.8             2018                12               4   \n",
       "2            13.4             2015                 8              20   \n",
       "3           115.0             2015                 7              24   \n",
       "4            27.0             2018                 6              19   \n",
       "\n",
       "   exposition_weekday  log_last_price  \n",
       "0                   3       16.380460  \n",
       "1                   1       15.024471  \n",
       "2                   3       15.463400  \n",
       "3                   4       17.988358  \n",
       "4                   1       16.118096  \n",
       "\n",
       "[5 rows x 28 columns]"
      ],
      "text/html": [
       "<div>\n",
       "<style scoped>\n",
       "    .dataframe tbody tr th:only-of-type {\n",
       "        vertical-align: middle;\n",
       "    }\n",
       "\n",
       "    .dataframe tbody tr th {\n",
       "        vertical-align: top;\n",
       "    }\n",
       "\n",
       "    .dataframe thead th {\n",
       "        text-align: right;\n",
       "    }\n",
       "</style>\n",
       "<table border=\"1\" class=\"dataframe\">\n",
       "  <thead>\n",
       "    <tr style=\"text-align: right;\">\n",
       "      <th></th>\n",
       "      <th>total_images</th>\n",
       "      <th>last_price</th>\n",
       "      <th>total_area</th>\n",
       "      <th>first_day_exposition</th>\n",
       "      <th>rooms</th>\n",
       "      <th>ceiling_height</th>\n",
       "      <th>floors_total</th>\n",
       "      <th>living_area</th>\n",
       "      <th>floor</th>\n",
       "      <th>is_apartment</th>\n",
       "      <th>...</th>\n",
       "      <th>parks_nearest</th>\n",
       "      <th>ponds_around3000</th>\n",
       "      <th>ponds_nearest</th>\n",
       "      <th>days_exposition</th>\n",
       "      <th>non_living_area</th>\n",
       "      <th>exposition_year</th>\n",
       "      <th>exposition_month</th>\n",
       "      <th>exposition_day</th>\n",
       "      <th>exposition_weekday</th>\n",
       "      <th>log_last_price</th>\n",
       "    </tr>\n",
       "  </thead>\n",
       "  <tbody>\n",
       "    <tr>\n",
       "      <th>0</th>\n",
       "      <td>20</td>\n",
       "      <td>13000000.0</td>\n",
       "      <td>108.0</td>\n",
       "      <td>2019-03-07</td>\n",
       "      <td>3</td>\n",
       "      <td>2.700000</td>\n",
       "      <td>16.0</td>\n",
       "      <td>51.0</td>\n",
       "      <td>8</td>\n",
       "      <td>0</td>\n",
       "      <td>...</td>\n",
       "      <td>482.0</td>\n",
       "      <td>2.0</td>\n",
       "      <td>755.0</td>\n",
       "      <td>0.0</td>\n",
       "      <td>32.0</td>\n",
       "      <td>2019</td>\n",
       "      <td>3</td>\n",
       "      <td>7</td>\n",
       "      <td>3</td>\n",
       "      <td>16.380460</td>\n",
       "    </tr>\n",
       "    <tr>\n",
       "      <th>1</th>\n",
       "      <td>7</td>\n",
       "      <td>3350000.0</td>\n",
       "      <td>40.4</td>\n",
       "      <td>2018-12-04</td>\n",
       "      <td>1</td>\n",
       "      <td>2.644470</td>\n",
       "      <td>11.0</td>\n",
       "      <td>18.6</td>\n",
       "      <td>1</td>\n",
       "      <td>0</td>\n",
       "      <td>...</td>\n",
       "      <td>679.0</td>\n",
       "      <td>0.0</td>\n",
       "      <td>640.0</td>\n",
       "      <td>81.0</td>\n",
       "      <td>10.8</td>\n",
       "      <td>2018</td>\n",
       "      <td>12</td>\n",
       "      <td>4</td>\n",
       "      <td>1</td>\n",
       "      <td>15.024471</td>\n",
       "    </tr>\n",
       "    <tr>\n",
       "      <th>2</th>\n",
       "      <td>10</td>\n",
       "      <td>5196000.0</td>\n",
       "      <td>56.0</td>\n",
       "      <td>2015-08-20</td>\n",
       "      <td>2</td>\n",
       "      <td>2.803725</td>\n",
       "      <td>5.0</td>\n",
       "      <td>34.3</td>\n",
       "      <td>4</td>\n",
       "      <td>0</td>\n",
       "      <td>...</td>\n",
       "      <td>90.0</td>\n",
       "      <td>2.0</td>\n",
       "      <td>574.0</td>\n",
       "      <td>558.0</td>\n",
       "      <td>13.4</td>\n",
       "      <td>2015</td>\n",
       "      <td>8</td>\n",
       "      <td>20</td>\n",
       "      <td>3</td>\n",
       "      <td>15.463400</td>\n",
       "    </tr>\n",
       "    <tr>\n",
       "      <th>3</th>\n",
       "      <td>0</td>\n",
       "      <td>64900000.0</td>\n",
       "      <td>159.0</td>\n",
       "      <td>2015-07-24</td>\n",
       "      <td>3</td>\n",
       "      <td>2.803725</td>\n",
       "      <td>14.0</td>\n",
       "      <td>34.0</td>\n",
       "      <td>9</td>\n",
       "      <td>0</td>\n",
       "      <td>...</td>\n",
       "      <td>84.0</td>\n",
       "      <td>3.0</td>\n",
       "      <td>234.0</td>\n",
       "      <td>424.0</td>\n",
       "      <td>115.0</td>\n",
       "      <td>2015</td>\n",
       "      <td>7</td>\n",
       "      <td>24</td>\n",
       "      <td>4</td>\n",
       "      <td>17.988358</td>\n",
       "    </tr>\n",
       "    <tr>\n",
       "      <th>4</th>\n",
       "      <td>2</td>\n",
       "      <td>10000000.0</td>\n",
       "      <td>100.0</td>\n",
       "      <td>2018-06-19</td>\n",
       "      <td>2</td>\n",
       "      <td>3.030000</td>\n",
       "      <td>14.0</td>\n",
       "      <td>32.0</td>\n",
       "      <td>13</td>\n",
       "      <td>0</td>\n",
       "      <td>...</td>\n",
       "      <td>112.0</td>\n",
       "      <td>1.0</td>\n",
       "      <td>48.0</td>\n",
       "      <td>121.0</td>\n",
       "      <td>27.0</td>\n",
       "      <td>2018</td>\n",
       "      <td>6</td>\n",
       "      <td>19</td>\n",
       "      <td>1</td>\n",
       "      <td>16.118096</td>\n",
       "    </tr>\n",
       "  </tbody>\n",
       "</table>\n",
       "<p>5 rows × 28 columns</p>\n",
       "</div>"
      ]
     },
     "execution_count": 39,
     "metadata": {},
     "output_type": "execute_result"
    }
   ],
   "execution_count": 39
  },
  {
   "metadata": {
    "ExecuteTime": {
     "end_time": "2024-08-30T14:26:52.306959Z",
     "start_time": "2024-08-30T14:26:46.228914Z"
    }
   },
   "cell_type": "code",
   "source": [
    "\n",
    "create_matrix_correlation(df.drop(['locality_name','first_day_exposition'],axis=1))"
   ],
   "id": "7451be6a2588e0b5",
   "outputs": [
    {
     "data": {
      "text/plain": [
       "<Figure size 1000x1000 with 2 Axes>"
      ],
      "image/png": "[encoded data removed]"
     },
     "metadata": {},
     "output_type": "display_data"
    }
   ],
   "execution_count": 40
  },
  {
   "metadata": {
    "ExecuteTime": {
     "end_time": "2024-08-30T14:26:52.320525Z",
     "start_time": "2024-08-30T14:26:52.309383Z"
    }
   },
   "cell_type": "code",
   "source": [
    "['total_area', 'rooms', 'living_area', 'is_apartment', 'kitchen_area',\n",
    "       'airports_nearest', 'parks_nearest', 'non_living_area']"
   ],
   "id": "24816d534db8ef1a",
   "outputs": [
    {
     "data": {
      "text/plain": [
       "['total_area',\n",
       " 'rooms',\n",
       " 'living_area',\n",
       " 'is_apartment',\n",
       " 'kitchen_area',\n",
       " 'airports_nearest',\n",
       " 'parks_nearest',\n",
       " 'non_living_area']"
      ]
     },
     "execution_count": 41,
     "metadata": {},
     "output_type": "execute_result"
    }
   ],
   "execution_count": 41
  },
  {
   "metadata": {
    "ExecuteTime": {
     "end_time": "2024-08-30T14:26:52.342930Z",
     "start_time": "2024-08-30T14:26:52.322504Z"
    }
   },
   "cell_type": "code",
   "source": [
    "X = df.drop(['last_price','first_day_exposition','locality_name','studio', 'open_plan','log_last_price'], axis=1)\n",
    "\n",
    "y = df['log_last_price']"
   ],
   "id": "df5920099ccb211c",
   "outputs": [],
   "execution_count": 42
  },
  {
   "metadata": {
    "ExecuteTime": {
     "end_time": "2024-08-30T14:27:00.411900Z",
     "start_time": "2024-08-30T14:26:52.345731Z"
    }
   },
   "cell_type": "code",
   "source": [
    "draw_distribution_graphic(\n",
    "    x=df.last_price\n",
    ")"
   ],
   "id": "bd0261c033be045b",
   "outputs": [
    {
     "data": {
      "text/plain": [
       "<Figure size 1200x600 with 1 Axes>"
      ],
      "image/png": "[encoded data removed]"
     },
     "metadata": {},
     "output_type": "display_data"
    }
   ],
   "execution_count": 43
  },
  {
   "metadata": {
    "ExecuteTime": {
     "end_time": "2024-08-30T14:27:01.442390Z",
     "start_time": "2024-08-30T14:27:00.413975Z"
    }
   },
   "cell_type": "code",
   "source": [
    "draw_distribution_graphic(\n",
    "    x=df.log_last_price\n",
    ")   \n"
   ],
   "id": "a36f253d81cd99c3",
   "outputs": [
    {
     "data": {
      "text/plain": [
       "<Figure size 1200x600 with 1 Axes>"
      ],
      "image/png": "[encoded data removed]"
     },
     "metadata": {},
     "output_type": "display_data"
    }
   ],
   "execution_count": 44
  },
  {
   "metadata": {},
   "cell_type": "markdown",
   "source": "## Feature Selection",
   "id": "1d213601ededdfa9"
  },
  {
   "metadata": {
    "ExecuteTime": {
     "end_time": "2024-08-30T14:27:01.471380Z",
     "start_time": "2024-08-30T14:27:01.446055Z"
    }
   },
   "cell_type": "code",
   "source": "df.isna().sum().sort_values(ascending=False)",
   "id": "4775c1f6b69786fa",
   "outputs": [
    {
     "data": {
      "text/plain": [
       "total_images            0\n",
       "last_price              0\n",
       "exposition_weekday      0\n",
       "exposition_day          0\n",
       "exposition_month        0\n",
       "exposition_year         0\n",
       "non_living_area         0\n",
       "days_exposition         0\n",
       "ponds_nearest           0\n",
       "ponds_around3000        0\n",
       "parks_nearest           0\n",
       "parks_around3000        0\n",
       "cityCenters_nearest     0\n",
       "airports_nearest        0\n",
       "locality_name           0\n",
       "balcony                 0\n",
       "kitchen_area            0\n",
       "open_plan               0\n",
       "studio                  0\n",
       "is_apartment            0\n",
       "floor                   0\n",
       "living_area             0\n",
       "floors_total            0\n",
       "ceiling_height          0\n",
       "rooms                   0\n",
       "first_day_exposition    0\n",
       "total_area              0\n",
       "log_last_price          0\n",
       "dtype: int64"
      ]
     },
     "execution_count": 45,
     "metadata": {},
     "output_type": "execute_result"
    }
   ],
   "execution_count": 45
  },
  {
   "metadata": {
    "ExecuteTime": {
     "end_time": "2024-08-30T14:27:02.937985Z",
     "start_time": "2024-08-30T14:27:01.476427Z"
    }
   },
   "cell_type": "code",
   "source": [
    "\n",
    "from sklearn.feature_selection import f_classif, SelectKBest\n",
    "\n",
    "selector = SelectKBest(\n",
    "    score_func=f_classif,\n",
    "    k=12\n",
    ")\n",
    "X_new = selector.fit_transform(X,y)"
   ],
   "id": "a979f30b6e7298a4",
   "outputs": [],
   "execution_count": 46
  },
  {
   "metadata": {
    "ExecuteTime": {
     "end_time": "2024-08-30T14:27:02.951062Z",
     "start_time": "2024-08-30T14:27:02.939982Z"
    }
   },
   "cell_type": "code",
   "source": [
    "\n",
    "X_new"
   ],
   "id": "8bf5854acb219f29",
   "outputs": [
    {
     "data": {
      "text/plain": [
       "array([[108.0, 3, 16.0, ..., 482.0, 2.0, 32.0],\n",
       "       [40.4, 1, 11.0, ..., 679.0, 0.0, 10.799999999999997],\n",
       "       [56.0, 2, 5.0, ..., 90.0, 2.0, 13.400000000000006],\n",
       "       ...,\n",
       "       [59.0, 3, 5.0, ..., 110.0, 2.0, 12.5],\n",
       "       [76.75, 2, 17.0, ..., 173.0, 3.0, 19.450000000000003],\n",
       "       [32.3, 1, 5.0, ..., 110.0, 2.0, 10.999999999999996]], dtype=object)"
      ]
     },
     "execution_count": 47,
     "metadata": {},
     "output_type": "execute_result"
    }
   ],
   "execution_count": 47
  },
  {
   "metadata": {
    "ExecuteTime": {
     "end_time": "2024-08-30T14:27:02.969805Z",
     "start_time": "2024-08-30T14:27:02.953061Z"
    }
   },
   "cell_type": "code",
   "source": "y",
   "id": "3417208d02bda4db",
   "outputs": [
    {
     "data": {
      "text/plain": [
       "0        16.380460\n",
       "1        15.024471\n",
       "2        15.463400\n",
       "3        17.988358\n",
       "4        16.118096\n",
       "           ...    \n",
       "23693    15.341567\n",
       "23694    16.087637\n",
       "23695    14.946913\n",
       "23697    16.255681\n",
       "23698    14.115616\n",
       "Name: log_last_price, Length: 22460, dtype: float64"
      ]
     },
     "execution_count": 48,
     "metadata": {},
     "output_type": "execute_result"
    }
   ],
   "execution_count": 48
  },
  {
   "metadata": {
    "ExecuteTime": {
     "end_time": "2024-08-30T14:27:02.985086Z",
     "start_time": "2024-08-30T14:27:02.972804Z"
    }
   },
   "cell_type": "code",
   "source": [
    "\n",
    "selected_indices = selector.get_support(indices=True)\n",
    "print(\"Selected feature indices:\", selected_indices)"
   ],
   "id": "54946d43e8c03886",
   "outputs": [
    {
     "name": "stdout",
     "output_type": "stream",
     "text": [
      "Selected feature indices: [ 1  2  4  5  7  8 10 11 12 13 14 17]\n"
     ]
    }
   ],
   "execution_count": 49
  },
  {
   "metadata": {
    "ExecuteTime": {
     "end_time": "2024-08-30T14:27:02.995575Z",
     "start_time": "2024-08-30T14:27:02.987086Z"
    }
   },
   "cell_type": "code",
   "source": [
    "selected_feature_names = X.columns[selected_indices]\n",
    "print(\"Selected feature names:\", selected_feature_names)"
   ],
   "id": "b6fe5232009f5062",
   "outputs": [
    {
     "name": "stdout",
     "output_type": "stream",
     "text": [
      "Selected feature names: Index(['total_area', 'rooms', 'floors_total', 'living_area', 'is_apartment',\n",
      "       'kitchen_area', 'airports_nearest', 'cityCenters_nearest',\n",
      "       'parks_around3000', 'parks_nearest', 'ponds_around3000',\n",
      "       'non_living_area'],\n",
      "      dtype='object')\n"
     ]
    }
   ],
   "execution_count": 50
  },
  {
   "metadata": {},
   "cell_type": "markdown",
   "source": "## Splitting Data into Train, Validation & Test sets",
   "id": "7bf618f61bf48363"
  },
  {
   "metadata": {
    "ExecuteTime": {
     "end_time": "2024-08-30T14:27:03.036500Z",
     "start_time": "2024-08-30T14:27:02.997573Z"
    }
   },
   "cell_type": "code",
   "source": [
    "from sklearn.model_selection import train_test_split\n",
    "\n",
    "X_train, X_test, y_train, y_test = train_test_split(\n",
    "    X_new, \n",
    "    y,\n",
    "    train_size = 0.8,\n",
    "    test_size = 0.2\n",
    ")"
   ],
   "id": "ea415aa7944ab20",
   "outputs": [],
   "execution_count": 51
  },
  {
   "metadata": {
    "ExecuteTime": {
     "end_time": "2024-08-30T14:27:03.062959Z",
     "start_time": "2024-08-30T14:27:03.038496Z"
    }
   },
   "cell_type": "code",
   "source": [
    "X_train, X_val, y_train, y_val = train_test_split(\n",
    "    X_train, \n",
    "    y_train,\n",
    "    train_size = 0.9,\n",
    "    test_size = 0.1 \n",
    ")"
   ],
   "id": "801b354b130cd04c",
   "outputs": [],
   "execution_count": 52
  },
  {
   "metadata": {
    "ExecuteTime": {
     "end_time": "2024-08-30T14:27:03.147049Z",
     "start_time": "2024-08-30T14:27:03.064957Z"
    }
   },
   "cell_type": "code",
   "source": [
    "from sklearn.preprocessing import StandardScaler\n",
    "\n",
    "scaler = StandardScaler().fit(X_train)\n",
    "X_train_scaled = scaler.transform(X_train)\n",
    "X_test_scaled = scaler.transform(X_test)\n",
    "X_val_scaled = scaler.transform(X_val)"
   ],
   "id": "399e33161e9c5cf8",
   "outputs": [],
   "execution_count": 53
  },
  {
   "metadata": {},
   "cell_type": "markdown",
   "source": "## Model building & training ",
   "id": "5bdda2f4a87f6b2e"
  },
  {
   "metadata": {
    "ExecuteTime": {
     "end_time": "2024-08-30T14:27:03.762427Z",
     "start_time": "2024-08-30T14:27:03.149051Z"
    }
   },
   "cell_type": "code",
   "source": [
    "from sklearn.ensemble import BaggingRegressor\n",
    "from sklearn.metrics import mean_absolute_error, mean_squared_error, r2_score\n",
    "from dataclasses import dataclass\n",
    "import abc\n",
    "from typing import Dict, Any, Type\n",
    "from sklearn.model_selection import GridSearchCV\n",
    "\n",
    "\n",
    "@dataclass\n",
    "class ModelBuildingHelper:\n",
    "    model_class: Type[abc.ABCMeta]\n",
    "    X_train: pd.DataFrame\n",
    "    X_val: pd.DataFrame\n",
    "    y_train: pd.Series\n",
    "    y_val: pd.Series\n",
    "    test_x_data: pd.DataFrame\n",
    "    test_y_data: pd.Series \n",
    "    params_grid: Dict[str, Any]  = None\n",
    "    bagging_params: Dict[str, Any] = None  \n",
    "    def __post_init__(self):\n",
    "        self.model_instance = self.model_class\n",
    "        if self.params_grid:\n",
    "            self.grid_search = GridSearchCV(\n",
    "                estimator = self.model_instance,\n",
    "                param_grid =  self.params_grid,\n",
    "                cv = 5\n",
    "            )\n",
    "        else:\n",
    "            self.grid_search = None\n",
    "            \n",
    "        if self.bagging_params:\n",
    "            self.bagging_model = BaggingRegressor(\n",
    "                estimator=self.model_instance,\n",
    "                **self.bagging_params\n",
    "            )\n",
    "        else:\n",
    "            self.bagging_model = None\n",
    "\n",
    "    def train_model(self):\n",
    "        if self.grid_search:\n",
    "            self.grid_search.fit(self.X_train, self.y_train)\n",
    "            self.model_instance = self.grid_search.best_estimator_\n",
    "        else:\n",
    "            self.model_instance.fit(self.X_train, self.y_train)\n",
    "\n",
    "        \n",
    "    def evaluate_model(self):\n",
    "        y_val_pred = self.model_instance.predict(self.X_val)\n",
    "        self.metrics(y_real=self.y_val, \n",
    "                     y_pred=y_val_pred)\n",
    "    def metrics(self, y_real, y_pred):\n",
    "        mae = mean_absolute_error(y_real,y_pred)\n",
    "        mse = mean_squared_error(y_real, y_pred)\n",
    "        r2 = r2_score(y_real, y_pred)\n",
    "        print(f'metrics:\\n'\n",
    "              f'mae {mae}\\n'\n",
    "              f'mse {mse}\\n'\n",
    "              f'r2 {r2}\\n')\n",
    "\n",
    "    def get_prediction(self):\n",
    "        test_pred_data = self.model_instance.predict(self.test_x_data)\n",
    "        self.metrics(self.test_y_data, test_pred_data)\n",
    "    def get_best_params(self):\n",
    "        if self.grid_search:\n",
    "            return self.grid_search.best_params_\n",
    "        else:\n",
    "            raise ValueError(\"GridSearchCV hasn't been completed yet\")"
   ],
   "id": "bb1e41d59eb27fef",
   "outputs": [],
   "execution_count": 54
  },
  {
   "metadata": {
    "ExecuteTime": {
     "end_time": "2024-08-30T17:09:43.369941Z",
     "start_time": "2024-08-30T17:09:43.329938Z"
    }
   },
   "cell_type": "code",
   "source": [
    "from sklearn.linear_model import LinearRegression\n",
    "\n",
    "model = LinearRegression()\n",
    "\n",
    "linear_regression = ModelBuildingHelper(\n",
    "    model_class = model,\n",
    "    X_train=X_train_scaled, \n",
    "    X_val=X_test_scaled,\n",
    "    y_train=y_train, \n",
    "    y_val=y_test,\n",
    "    test_x_data=X_val_scaled,\n",
    "    test_y_data=y_val \n",
    ")"
   ],
   "id": "1bfbb7ef925f5206",
   "outputs": [],
   "execution_count": 144
  },
  {
   "metadata": {
    "ExecuteTime": {
     "end_time": "2024-08-30T17:09:44.546726Z",
     "start_time": "2024-08-30T17:09:44.392916Z"
    }
   },
   "cell_type": "code",
   "source": "linear_regression.train_model()",
   "id": "98b4e2ba2c5fa323",
   "outputs": [],
   "execution_count": 145
  },
  {
   "metadata": {
    "ExecuteTime": {
     "end_time": "2024-08-30T17:09:45.270185Z",
     "start_time": "2024-08-30T17:09:45.258299Z"
    }
   },
   "cell_type": "code",
   "source": "linear_regression.evaluate_model()",
   "id": "528bd4bea398e918",
   "outputs": [
    {
     "name": "stdout",
     "output_type": "stream",
     "text": [
      "metrics:\n",
      "mae 0.2446158498421134\n",
      "mse 0.11860857652212202\n",
      "r2 0.7010265065481236\n",
      "\n"
     ]
    }
   ],
   "execution_count": 146
  },
  {
   "metadata": {
    "ExecuteTime": {
     "end_time": "2024-08-30T17:16:49.641999Z",
     "start_time": "2024-08-30T17:16:49.615653Z"
    }
   },
   "cell_type": "code",
   "source": [
    "from sklearn.ensemble import RandomForestRegressor\n",
    "model = RandomForestRegressor()\n",
    "parameters = {'n_estimators': [300],\n",
    "              'max_depth': [20], \n",
    "              'min_samples_split': [4], \n",
    "              'min_samples_leaf': [2,4]\n",
    "              }\n",
    "\n",
    "randomforest_regressor = ModelBuildingHelper(\n",
    "    model_class = model,\n",
    "    X_train=X_train_scaled, \n",
    "    X_val=X_test_scaled,\n",
    "    y_train=y_train, \n",
    "    y_val=y_test,\n",
    "    test_x_data=X_val_scaled,\n",
    "    test_y_data=y_val,\n",
    "    params_grid=parameters,\n",
    ")"
   ],
   "id": "92c4d65c4f9e5653",
   "outputs": [],
   "execution_count": 150
  },
  {
   "metadata": {
    "ExecuteTime": {
     "end_time": "2024-08-30T17:22:47.430011Z",
     "start_time": "2024-08-30T17:16:49.800288Z"
    }
   },
   "cell_type": "code",
   "source": "randomforest_regressor.train_model()",
   "id": "de0ab95e99cd75b",
   "outputs": [],
   "execution_count": 151
  },
  {
   "metadata": {
    "ExecuteTime": {
     "end_time": "2024-08-30T17:22:47.882262Z",
     "start_time": "2024-08-30T17:22:47.432010Z"
    }
   },
   "cell_type": "code",
   "source": "randomforest_regressor.evaluate_model()",
   "id": "9eb86c4c49408bb3",
   "outputs": [
    {
     "name": "stdout",
     "output_type": "stream",
     "text": [
      "metrics:\n",
      "mae 0.1630326589456583\n",
      "mse 0.05813287621646677\n",
      "r2 0.8534660005501293\n",
      "\n"
     ]
    }
   ],
   "execution_count": 152
  },
  {
   "metadata": {
    "ExecuteTime": {
     "end_time": "2024-08-30T17:23:13.748160Z",
     "start_time": "2024-08-30T17:23:13.738159Z"
    }
   },
   "cell_type": "code",
   "source": "randomforest_regressor.get_best_params()",
   "id": "84117fbeb03a15d8",
   "outputs": [
    {
     "data": {
      "text/plain": [
       "{'max_depth': 20,\n",
       " 'min_samples_leaf': 2,\n",
       " 'min_samples_split': 4,\n",
       " 'n_estimators': 300}"
      ]
     },
     "execution_count": 154,
     "metadata": {},
     "output_type": "execute_result"
    }
   ],
   "execution_count": 154
  },
  {
   "metadata": {
    "ExecuteTime": {
     "end_time": "2024-08-30T17:23:19.029430Z",
     "start_time": "2024-08-30T17:23:19.019438Z"
    }
   },
   "cell_type": "code",
   "source": [
    "from xgboost import XGBRegressor\n",
    "\n",
    "model = XGBRegressor(    \n",
    "    eval_metric='rmse',\n",
    ")\n",
    "\n",
    "bagging_params = {\n",
    "    'n_estimators': 5, \n",
    "    'random_state': 42\n",
    "}\n",
    "\n",
    "parameters = {'n_estimators': [200,400], \n",
    "              'learning_rate': [0.1],\n",
    "              'max_depth': [5], \n",
    "              'subsample': [1.0],\n",
    "              'colsample_bytree': [0.6, 0.8],\n",
    "              'alpha': [1.0], \n",
    "              'lambda': [1.0],\n",
    "              'min_child_weight': [6,8,10]\n",
    "              }\n",
    "\n",
    "xgb_regressor = ModelBuildingHelper(\n",
    "    model_class = model,\n",
    "    X_train=X_train_scaled, \n",
    "    X_val=X_test_scaled,\n",
    "    y_train=y_train, \n",
    "    y_val=y_test,\n",
    "    test_x_data=X_val_scaled,\n",
    "    test_y_data=y_val,\n",
    "    params_grid=parameters,\n",
    "    bagging_params=bagging_params\n",
    ")\n"
   ],
   "id": "fa92200a9a0d1a29",
   "outputs": [],
   "execution_count": 155
  },
  {
   "metadata": {
    "ExecuteTime": {
     "end_time": "2024-08-30T17:24:16.827739Z",
     "start_time": "2024-08-30T17:23:26.330394Z"
    }
   },
   "cell_type": "code",
   "source": "xgb_regressor.train_model()",
   "id": "407f8bb7e27ffa7",
   "outputs": [],
   "execution_count": 156
  },
  {
   "metadata": {
    "ExecuteTime": {
     "end_time": "2024-08-30T17:24:16.872082Z",
     "start_time": "2024-08-30T17:24:16.829734Z"
    }
   },
   "cell_type": "code",
   "source": [
    "\n",
    "xgb_regressor.evaluate_model()"
   ],
   "id": "5bf549c197f465aa",
   "outputs": [
    {
     "name": "stdout",
     "output_type": "stream",
     "text": [
      "metrics:\n",
      "mae 0.16060142279556042\n",
      "mse 0.05485200499109532\n",
      "r2 0.8617360056423167\n",
      "\n"
     ]
    }
   ],
   "execution_count": 157
  },
  {
   "metadata": {
    "ExecuteTime": {
     "end_time": "2024-08-30T17:25:28.981724Z",
     "start_time": "2024-08-30T17:25:28.973162Z"
    }
   },
   "cell_type": "code",
   "source": "xgb_regressor.get_best_params()",
   "id": "c08bdf3500b9af17",
   "outputs": [
    {
     "data": {
      "text/plain": [
       "{'alpha': 1.0,\n",
       " 'colsample_bytree': 0.6,\n",
       " 'lambda': 1.0,\n",
       " 'learning_rate': 0.1,\n",
       " 'max_depth': 5,\n",
       " 'min_child_weight': 10,\n",
       " 'n_estimators': 400,\n",
       " 'subsample': 1.0}"
      ]
     },
     "execution_count": 158,
     "metadata": {},
     "output_type": "execute_result"
    }
   ],
   "execution_count": 158
  },
  {
   "metadata": {
    "ExecuteTime": {
     "end_time": "2024-08-30T17:25:47.355392Z",
     "start_time": "2024-08-30T17:25:47.349804Z"
    }
   },
   "cell_type": "code",
   "source": [
    "from sklearn.ensemble import ExtraTreesRegressor\n",
    "\n",
    "model = ExtraTreesRegressor(\n",
    "    n_estimators=100,\n",
    "    max_depth=10,\n",
    "    min_samples_split=2,\n",
    "    min_samples_leaf=1,\n",
    "    random_state=42\n",
    ")"
   ],
   "id": "ffeb5f4071bd7466",
   "outputs": [],
   "execution_count": 161
  },
  {
   "metadata": {
    "ExecuteTime": {
     "end_time": "2024-08-30T17:25:57.803628Z",
     "start_time": "2024-08-30T17:25:53.899847Z"
    }
   },
   "cell_type": "code",
   "source": [
    "extra_trees_regressor = ModelBuildingHelper(\n",
    "    model_class = model,\n",
    "    X_train=X_train_scaled, \n",
    "    X_val=X_test_scaled,\n",
    "    y_train=y_train, \n",
    "    y_val=y_test,\n",
    "    test_x_data=X_val_scaled,\n",
    "    test_y_data=y_val,\n",
    ")\n",
    "extra_trees_regressor.train_model()"
   ],
   "id": "e76694b4286bcb35",
   "outputs": [],
   "execution_count": 162
  },
  {
   "metadata": {
    "ExecuteTime": {
     "end_time": "2024-08-30T17:26:00.146306Z",
     "start_time": "2024-08-30T17:26:00.055133Z"
    }
   },
   "cell_type": "code",
   "source": "extra_trees_regressor.evaluate_model()",
   "id": "c591ee509a714f30",
   "outputs": [
    {
     "name": "stdout",
     "output_type": "stream",
     "text": [
      "metrics:\n",
      "mae 0.17720254707241886\n",
      "mse 0.0649315366993608\n",
      "r2 0.8363287973649538\n",
      "\n"
     ]
    }
   ],
   "execution_count": 163
  },
  {
   "metadata": {
    "ExecuteTime": {
     "end_time": "2024-08-30T17:26:02.687080Z",
     "start_time": "2024-08-30T17:26:02.638544Z"
    }
   },
   "cell_type": "code",
   "source": "extra_trees_regressor.get_prediction()",
   "id": "71598341a8ff60b4",
   "outputs": [
    {
     "name": "stdout",
     "output_type": "stream",
     "text": [
      "metrics:\n",
      "mae 0.17847590529618138\n",
      "mse 0.06616683269030917\n",
      "r2 0.8393738675804346\n",
      "\n"
     ]
    }
   ],
   "execution_count": 164
  },
  {
   "metadata": {
    "ExecuteTime": {
     "end_time": "2024-08-30T18:16:20.578Z",
     "start_time": "2024-08-30T18:16:20.569915Z"
    }
   },
   "cell_type": "code",
   "source": [
    "\n",
    "import lightgbm as lgb\n",
    "model = lgb.LGBMRegressor(\n",
    "    objective='regression',\n",
    "    boosting_type='gbdt',\n",
    "    random_state=42,\n",
    "    verbose=-1\n",
    ")\n",
    "\n",
    "parameters = {\n",
    "    'n_estimators': [100, 200, 400],\n",
    "    'learning_rate': [0.01, 0.1],\n",
    "    'max_depth': [5, 7],\n",
    "    'num_leaves': [20, 31],\n",
    "    'min_child_samples': [10],\n",
    "    'subsample': [0.6],\n",
    "    'colsample_bytree': [0.6],\n",
    "}\n",
    "\n",
    "lgb_regressor = ModelBuildingHelper(\n",
    "    model_class=model,\n",
    "    X_train=X_train_scaled, \n",
    "    X_val=X_test_scaled,\n",
    "    y_train=y_train, \n",
    "    y_val=y_test,\n",
    "    test_x_data=X_val_scaled,\n",
    "    test_y_data=y_val,\n",
    "    params_grid=parameters,\n",
    ")\n",
    "\n"
   ],
   "id": "f448dedd1ff7a610",
   "outputs": [],
   "execution_count": 193
  },
  {
   "metadata": {
    "ExecuteTime": {
     "end_time": "2024-08-30T18:17:33.216336Z",
     "start_time": "2024-08-30T18:16:21.064680Z"
    }
   },
   "cell_type": "code",
   "source": "lgb_regressor.train_model()",
   "id": "f9015afe1e5eb0d7",
   "outputs": [],
   "execution_count": 194
  },
  {
   "metadata": {
    "ExecuteTime": {
     "end_time": "2024-08-30T17:28:07.919368Z",
     "start_time": "2024-08-30T17:28:07.766371Z"
    }
   },
   "cell_type": "code",
   "source": "lgb_regressor.evaluate_model()",
   "id": "c8327557d8025814",
   "outputs": [
    {
     "name": "stdout",
     "output_type": "stream",
     "text": [
      "metrics:\n",
      "mae 0.15922405354927424\n",
      "mse 0.05421737394590328\n",
      "r2 0.8633357032881163\n",
      "\n"
     ]
    }
   ],
   "execution_count": 168
  },
  {
   "metadata": {
    "ExecuteTime": {
     "end_time": "2024-08-30T17:28:18.018085Z",
     "start_time": "2024-08-30T17:28:18.013083Z"
    }
   },
   "cell_type": "code",
   "source": [
    "from catboost import CatBoostRegressor\n",
    "\n",
    "model = CatBoostRegressor(\n",
    "    iterations=500,\n",
    "    depth=6,\n",
    "    learning_rate=0.1,\n",
    "    loss_function='RMSE',\n",
    "    random_state=42,\n",
    "    verbose=0\n",
    ")\n"
   ],
   "id": "ce3b65e3b48be82e",
   "outputs": [],
   "execution_count": 170
  },
  {
   "metadata": {
    "ExecuteTime": {
     "end_time": "2024-08-30T17:28:33.048248Z",
     "start_time": "2024-08-30T17:28:33.039719Z"
    }
   },
   "cell_type": "code",
   "source": [
    "catboost_regressor = ModelBuildingHelper(\n",
    "    model_class=model,\n",
    "    X_train=X_train_scaled, \n",
    "    X_val=X_test_scaled,\n",
    "    y_train=y_train, \n",
    "    y_val=y_test,\n",
    "    test_x_data=X_val_scaled,\n",
    "    test_y_data=y_val,\n",
    ")"
   ],
   "id": "9225bd6b7daa2b66",
   "outputs": [],
   "execution_count": 175
  },
  {
   "metadata": {
    "ExecuteTime": {
     "end_time": "2024-08-30T17:28:39.510588Z",
     "start_time": "2024-08-30T17:28:33.547759Z"
    }
   },
   "cell_type": "code",
   "source": "catboost_regressor.train_model()",
   "id": "a92a485148445061",
   "outputs": [],
   "execution_count": 176
  },
  {
   "metadata": {
    "ExecuteTime": {
     "end_time": "2024-08-30T17:28:39.661629Z",
     "start_time": "2024-08-30T17:28:39.513501Z"
    }
   },
   "cell_type": "code",
   "source": "catboost_regressor.evaluate_model()",
   "id": "f78367af8ff262fa",
   "outputs": [
    {
     "name": "stdout",
     "output_type": "stream",
     "text": [
      "metrics:\n",
      "mae 0.15886829159551222\n",
      "mse 0.053763633749464836\n",
      "r2 0.8644794341685171\n",
      "\n"
     ]
    }
   ],
   "execution_count": 177
  },
  {
   "metadata": {
    "ExecuteTime": {
     "end_time": "2024-08-30T17:28:49.369591Z",
     "start_time": "2024-08-30T17:28:49.360844Z"
    }
   },
   "cell_type": "code",
   "source": [
    "from sklearn.linear_model import Lasso\n",
    "\n",
    "model = Lasso()\n",
    "\n",
    "parameters = {\n",
    "    'alpha': [0.01, 0.1, 1.0, 10.0],  \n",
    "    'max_iter': [1000]   \n",
    "}\n",
    "\n",
    "lasso_regressor = ModelBuildingHelper(\n",
    "    model_class=model,\n",
    "    X_train=X_train_scaled, \n",
    "    X_val=X_test_scaled,\n",
    "    y_train=y_train, \n",
    "    y_val=y_test,\n",
    "    test_x_data=X_val_scaled,\n",
    "    test_y_data=y_val,\n",
    "    params_grid=parameters\n",
    ")\n"
   ],
   "id": "a08d89fe94c7f398",
   "outputs": [],
   "execution_count": 180
  },
  {
   "metadata": {
    "ExecuteTime": {
     "end_time": "2024-08-30T17:29:45.929504Z",
     "start_time": "2024-08-30T17:28:49.608331Z"
    }
   },
   "cell_type": "code",
   "source": "lasso_regressor.train_model()",
   "id": "74d60390a0f126c4",
   "outputs": [],
   "execution_count": 181
  },
  {
   "metadata": {
    "ExecuteTime": {
     "end_time": "2024-08-30T17:29:46.146144Z",
     "start_time": "2024-08-30T17:29:46.133221Z"
    }
   },
   "cell_type": "code",
   "source": "lasso_regressor.evaluate_model()",
   "id": "1a72d7e1ad31cbbf",
   "outputs": [
    {
     "name": "stdout",
     "output_type": "stream",
     "text": [
      "metrics:\n",
      "mae 0.24413459424007228\n",
      "mse 0.11946701191444636\n",
      "r2 0.6988626712195876\n",
      "\n"
     ]
    }
   ],
   "execution_count": 182
  },
  {
   "metadata": {
    "ExecuteTime": {
     "end_time": "2024-08-30T16:59:56.363573Z",
     "start_time": "2024-08-30T16:59:56.356695Z"
    }
   },
   "cell_type": "code",
   "source": [
    "from sklearn.ensemble import StackingRegressor\n",
    "base_learners = [\n",
    "    ('lr', LinearRegression()),\n",
    "    ('rf', RandomForestRegressor(\n",
    "        n_estimators=300, \n",
    "        max_depth=20,\n",
    "        min_samples_split=4,\n",
    "        min_samples_leaf=4\n",
    "    )),\n",
    "    ('xgb', XGBRegressor(\n",
    "        n_estimators=400, \n",
    "        max_depth=5,\n",
    "        alpha=1.0,\n",
    "        colsample_bytree=0.6,\n",
    "        min_child_weight=10,\n",
    "        subsample=1.0,\n",
    "        learning_rate=0.1)),\n",
    "    ('cbr', CatBoostRegressor(\n",
    "        iterations=500,\n",
    "        depth=6,\n",
    "        learning_rate=0.1,\n",
    "        loss_function='RMSE',\n",
    "        random_state=42,\n",
    "        verbose=0\n",
    "    ))\n",
    "]\n",
    "\n",
    "stacking_regressor_4 = StackingRegressor(\n",
    "    estimators=base_learners,\n",
    "    final_estimator=RandomForestRegressor(\n",
    "        n_estimators=400)\n",
    ")\n",
    "\n",
    "stacking_model =  ModelBuildingHelper(\n",
    "    model_class=stacking_regressor_4,\n",
    "    X_train=X_train_scaled, \n",
    "    X_val=X_test_scaled,\n",
    "    y_train=y_train, \n",
    "    y_val=y_test,\n",
    "    test_x_data=X_val_scaled,\n",
    "    test_y_data=y_val,\n",
    ")"
   ],
   "id": "6fe735eb081cec72",
   "outputs": [],
   "execution_count": 140
  },
  {
   "metadata": {
    "ExecuteTime": {
     "end_time": "2024-08-30T17:05:34.638763Z",
     "start_time": "2024-08-30T17:00:11.071322Z"
    }
   },
   "cell_type": "code",
   "source": "stacking_model.train_model()",
   "id": "d6998a869600ef82",
   "outputs": [],
   "execution_count": 141
  },
  {
   "metadata": {
    "ExecuteTime": {
     "end_time": "2024-08-30T17:05:36.121476Z",
     "start_time": "2024-08-30T17:05:34.640757Z"
    }
   },
   "cell_type": "code",
   "source": "stacking_model.evaluate_model()",
   "id": "f310f62f665b231b",
   "outputs": [
    {
     "name": "stdout",
     "output_type": "stream",
     "text": [
      "metrics:\n",
      "mae 0.16558956673859712\n",
      "mse 0.05830881438947856\n",
      "r2 0.8530225178631328\n",
      "\n"
     ]
    }
   ],
   "execution_count": 142
  },
  {
   "metadata": {
    "ExecuteTime": {
     "end_time": "2024-08-30T16:52:52.297006Z",
     "start_time": "2024-08-30T16:52:52.194181Z"
    }
   },
   "cell_type": "code",
   "source": [
    "base_learners = [\n",
    "    ('lr', LinearRegression()),\n",
    "    ('rf', RandomForestRegressor(\n",
    "        n_estimators=300, \n",
    "        max_depth=20,\n",
    "        min_samples_split=4,\n",
    "        min_samples_leaf=4\n",
    "    )),\n",
    "]\n",
    "\n",
    "\n",
    "stacking_regressor_2 = StackingRegressor(\n",
    "    estimators=base_learners,\n",
    "    final_estimator=RandomForestRegressor(\n",
    "        n_estimators=400)\n",
    ")\n",
    "\n",
    "stacking_model =  ModelBuildingHelper(\n",
    "    model_class=stacking_regressor_2,\n",
    "    X_train=X_train_scaled, \n",
    "    X_val=X_test_scaled,\n",
    "    y_train=y_train, \n",
    "    y_val=y_test,\n",
    "    test_x_data=X_val_scaled,\n",
    "    test_y_data=y_val,\n",
    ")\n"
   ],
   "id": "14be968680a40e61",
   "outputs": [],
   "execution_count": 132
  },
  {
   "metadata": {
    "ExecuteTime": {
     "end_time": "2024-08-30T16:56:46.599493Z",
     "start_time": "2024-08-30T16:52:53.949449Z"
    }
   },
   "cell_type": "code",
   "source": "stacking_model.train_model()",
   "id": "1cc4d40bf622e81e",
   "outputs": [],
   "execution_count": 133
  },
  {
   "metadata": {
    "ExecuteTime": {
     "end_time": "2024-08-30T16:58:28.287994Z",
     "start_time": "2024-08-30T16:58:26.641963Z"
    }
   },
   "cell_type": "code",
   "source": "stacking_model.evaluate_model()",
   "id": "79a2504bdecb4b5a",
   "outputs": [
    {
     "name": "stdout",
     "output_type": "stream",
     "text": [
      "metrics:\n",
      "mae 0.1808505202417099\n",
      "mse 0.06960909540999119\n",
      "r2 0.8245381991675074\n",
      "\n"
     ]
    }
   ],
   "execution_count": 138
  },
  {
   "metadata": {},
   "cell_type": "markdown",
   "source": "## Model comparison",
   "id": "b2948f3fd1f9ccf5"
  },
  {
   "metadata": {},
   "cell_type": "code",
   "outputs": [
    {
     "name": "stdout",
     "output_type": "stream",
     "text": [
      "metrics:\n",
      "mae 0.24497712090604187\n",
      "mse 0.1223676480289325\n",
      "r2 0.7029411679993437\n",
      "\n"
     ]
    }
   ],
   "execution_count": 147,
   "source": "linear_regression.get_prediction()",
   "id": "69c2dd80066730"
  },
  {
   "metadata": {},
   "cell_type": "code",
   "outputs": [
    {
     "name": "stdout",
     "output_type": "stream",
     "text": [
      "metrics:\n",
      "mae 0.1668587953492942\n",
      "mse 0.06001158126700488\n",
      "r2 0.8543163121556938\n",
      "\n"
     ]
    }
   ],
   "execution_count": 153,
   "source": "randomforest_regressor.get_prediction()",
   "id": "309f40edeb7dab82"
  },
  {
   "metadata": {},
   "cell_type": "code",
   "outputs": [
    {
     "name": "stdout",
     "output_type": "stream",
     "text": [
      "metrics:\n",
      "mae 0.16250743962511016\n",
      "mse 0.05592798813710622\n",
      "r2 0.8642296137927963\n",
      "\n"
     ]
    }
   ],
   "execution_count": 169,
   "source": "lgb_regressor.get_prediction()",
   "id": "d499aa6ba0326ef5"
  },
  {
   "metadata": {},
   "cell_type": "code",
   "outputs": [
    {
     "name": "stdout",
     "output_type": "stream",
     "text": [
      "metrics:\n",
      "mae 0.16317853413834063\n",
      "mse 0.05687136798866475\n",
      "r2 0.8619394715750537\n",
      "\n"
     ]
    }
   ],
   "execution_count": 159,
   "source": "xgb_regressor.get_prediction()",
   "id": "c87c53a1164d09c8"
  },
  {
   "metadata": {},
   "cell_type": "code",
   "outputs": [
    {
     "name": "stdout",
     "output_type": "stream",
     "text": [
      "metrics:\n",
      "mae 0.16070033366951827\n",
      "mse 0.055400990044544414\n",
      "r2 0.865508950613963\n",
      "\n"
     ]
    }
   ],
   "execution_count": 178,
   "source": "catboost_regressor.get_prediction()",
   "id": "d3faeb6bfda752a9"
  },
  {
   "metadata": {},
   "cell_type": "code",
   "outputs": [
    {
     "name": "stdout",
     "output_type": "stream",
     "text": [
      "metrics:\n",
      "mae 0.24488815218042612\n",
      "mse 0.12402811638706449\n",
      "r2 0.6989102268234202\n",
      "\n"
     ]
    }
   ],
   "execution_count": 183,
   "source": "lasso_regressor.get_prediction()",
   "id": "34d8c74ecf25f5eb"
  },
  {
   "metadata": {},
   "cell_type": "code",
   "outputs": [
    {
     "name": "stdout",
     "output_type": "stream",
     "text": [
      "metrics:\n",
      "mae 0.1670719874505634\n",
      "mse 0.06112248740868112\n",
      "r2 0.8516194843076119\n",
      "\n"
     ]
    }
   ],
   "execution_count": 143,
   "source": "stacking_model.get_prediction()\n",
   "id": "b3c76f5326de5194"
  },
  {
   "metadata": {},
   "cell_type": "code",
   "outputs": [
    {
     "name": "stdout",
     "output_type": "stream",
     "text": [
      "metrics:\n",
      "mae 0.18535977469823817\n",
      "mse 0.07286754383016023\n",
      "r2 0.8231072688769333\n",
      "\n"
     ]
    }
   ],
   "execution_count": 139,
   "source": "stacking_model.get_prediction()",
   "id": "e51510328388c6d2"
  },
  {
   "metadata": {},
   "cell_type": "markdown",
   "source": "## Conclusions ",
   "id": "4309ced43d92eb49"
  },
  {
   "metadata": {},
   "cell_type": "markdown",
   "source": [
    "The preprocessing involved filling missing values using the nearest neighbors approach and applying  \n",
    "a log transformation to normalize the last_price feature. Feature selection was done using  \n",
    "SelectKBest with f_classif, retaining the top 12 features. Data was scaled with   \n",
    "StandardScaler to ensure uniform contribution from all features.\n",
    "\n",
    "After training and optimizing various models, it was found that the CatBoost Regressor delivered the best performance.   \n",
    "The results were summarized as follows:  \n",
    "CatBoost Regressor  \n",
    "MAE: 0.160  \n",
    "MSE: 0.056\t  \n",
    "R_2: 0.865  \n",
    "\n",
    "CatBoost Regressor achieved the lowest MAE and MSE, and the highest R² score,  \n",
    "making it the most effective model in this analysis.  \n",
    "Overall, the preprocessing and feature selection steps contributed significantly  \n",
    "to the model performance, and stacking models helped in leveraging the strengths of different algorithms. \n",
    "\n",
    "To further improve the results, additional data preprocessing steps such as advanced feature  \n",
    " engineering and more extensive hyperparameter tuning techniques could be considered."
   ],
   "id": "d47140d1eb27db82"
  }
 ],
 "metadata": {
  "kernelspec": {
   "display_name": "Python 3",
   "language": "python",
   "name": "python3"
  },
  "language_info": {
   "codemirror_mode": {
    "name": "ipython",
    "version": 2
   },
   "file_extension": ".py",
   "mimetype": "text/x-python",
   "name": "python",
   "nbconvert_exporter": "python",
   "pygments_lexer": "ipython2",
   "version": "2.7.6"
  }
 },
 "nbformat": 4,
 "nbformat_minor": 5
}
